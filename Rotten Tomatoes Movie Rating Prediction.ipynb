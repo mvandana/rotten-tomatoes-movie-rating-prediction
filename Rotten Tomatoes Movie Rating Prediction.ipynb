{
 "cells": [
  {
   "cell_type": "markdown",
   "id": "8cadb3d0-6571-4c3b-9d79-8d5a24b6848e",
   "metadata": {},
   "source": [
    "## **ROTTEN TOMATOES MOVIE RATING PREDICTION**"
   ]
  },
  {
   "cell_type": "markdown",
   "id": "f9ee42b8-3b0e-48a7-888e-8be2492336e8",
   "metadata": {},
   "source": [
    "I built a classifier to predict Rotten Tomatoes movie status (Rotten, Fresh, Certified Fresh) using two approaches: structured features from rotten_tomatoes_movies.csv and text reviews from rotten_tomatoes_critic_reviews_50k.csv. On the structured side, I cleaned the data, selected numeric features (runtime, critic and audience metrics), and encoded categories correctly: one-hot for nominal labels like content_rating, and 0/1 encoding for binary flags such as audience or tomatometer status. I performed a train–test split, trained a Decision Tree as a baseline, then moved to a Random Forest to improve generalization. To handle class imbalance, I computed class weights with balanced and trained a weighted forest. I evaluated models with accuracy, precision, recall, F1, and confusion matrices, and I \n",
    "plotted feature importances to see which variables drove predictions.\n",
    "\n",
    "For the text approach, I took a subset of critic reviews, encoded the target (Fresh=1, Rotten=0), and vectorized review_content with CountVectorizer (bag-of-words). I trained a Random Forest on these vectors, evaluated it with the same metrics, and visualized a confusion matrix. I also applied the fitted vectorizer and model to new reviews for a specific movie and summarized results by computing the share of positive predictions and mapping that to an overall status."
   ]
  },
  {
   "cell_type": "markdown",
   "id": "1e464c99-8b4d-41eb-86d2-b5030cc575e7",
   "metadata": {},
   "source": [
    "### Step 1: Import Required Libraries"
   ]
  },
  {
   "cell_type": "code",
   "execution_count": 26,
   "id": "2d125853-adac-4de8-bbb1-16a9a0023e46",
   "metadata": {
    "scrolled": true
   },
   "outputs": [],
   "source": [
    "import pandas as pd\n",
    "import numpy as np\n",
    "import matplotlib.pyplot as plt\n",
    "\n",
    "from sklearn.utils.class_weight import compute_class_weight\n",
    "from sklearn.tree import DecisionTreeClassifier, plot_tree\n",
    "from sklearn.ensemble import RandomForestClassifier\n",
    "from sklearn.metrics import ConfusionMatrixDisplay, classification_report, confusion_matrix, accuracy_score\n",
    "from sklearn.feature_extraction.text import CountVectorizer\n",
    "from sklearn.model_selection import train_test_split"
   ]
  },
  {
   "cell_type": "markdown",
   "id": "eeda581e-2baa-49b9-8b4f-cda467791341",
   "metadata": {},
   "source": [
    "## First Approach: Predicting Movie Status Based on Numerical and Categorical Features"
   ]
  },
  {
   "cell_type": "markdown",
   "id": "0fe1a982-01e1-40cb-bfbd-15c11eb927d9",
   "metadata": {},
   "source": [
    "Predict movie status using numeric and categorical features from rotten_tomatoes_movies.csv. The dataset includes title, genre, cast, release date, production company, runtime, critic and audience ratings, and the Tomatometer. Load the file and preview its structure to understand columns and data quality."
   ]
  },
  {
   "cell_type": "code",
   "execution_count": 4,
   "id": "033963d8-fab3-4d62-9a31-3a0ee5c3a9e1",
   "metadata": {},
   "outputs": [
    {
     "data": {
      "text/html": [
       "<div>\n",
       "<style scoped>\n",
       "    .dataframe tbody tr th:only-of-type {\n",
       "        vertical-align: middle;\n",
       "    }\n",
       "\n",
       "    .dataframe tbody tr th {\n",
       "        vertical-align: top;\n",
       "    }\n",
       "\n",
       "    .dataframe thead th {\n",
       "        text-align: right;\n",
       "    }\n",
       "</style>\n",
       "<table border=\"1\" class=\"dataframe\">\n",
       "  <thead>\n",
       "    <tr style=\"text-align: right;\">\n",
       "      <th></th>\n",
       "      <th>rotten_tomatoes_link</th>\n",
       "      <th>movie_title</th>\n",
       "      <th>movie_info</th>\n",
       "      <th>critics_consensus</th>\n",
       "      <th>content_rating</th>\n",
       "      <th>genres</th>\n",
       "      <th>directors</th>\n",
       "      <th>authors</th>\n",
       "      <th>actors</th>\n",
       "      <th>original_release_date</th>\n",
       "      <th>...</th>\n",
       "      <th>production_company</th>\n",
       "      <th>tomatometer_status</th>\n",
       "      <th>tomatometer_rating</th>\n",
       "      <th>tomatometer_count</th>\n",
       "      <th>audience_status</th>\n",
       "      <th>audience_rating</th>\n",
       "      <th>audience_count</th>\n",
       "      <th>tomatometer_top_critics_count</th>\n",
       "      <th>tomatometer_fresh_critics_count</th>\n",
       "      <th>tomatometer_rotten_critics_count</th>\n",
       "    </tr>\n",
       "  </thead>\n",
       "  <tbody>\n",
       "    <tr>\n",
       "      <th>0</th>\n",
       "      <td>m/0814255</td>\n",
       "      <td>Percy Jackson &amp; the Olympians: The Lightning T...</td>\n",
       "      <td>Always trouble-prone, the life of teenager Per...</td>\n",
       "      <td>Though it may seem like just another Harry Pot...</td>\n",
       "      <td>PG</td>\n",
       "      <td>Action &amp; Adventure, Comedy, Drama, Science Fic...</td>\n",
       "      <td>Chris Columbus</td>\n",
       "      <td>Craig Titley, Chris Columbus, Rick Riordan</td>\n",
       "      <td>Logan Lerman, Brandon T. Jackson, Alexandra Da...</td>\n",
       "      <td>2010-02-12</td>\n",
       "      <td>...</td>\n",
       "      <td>20th Century Fox</td>\n",
       "      <td>Rotten</td>\n",
       "      <td>49.0</td>\n",
       "      <td>149.0</td>\n",
       "      <td>Spilled</td>\n",
       "      <td>53.0</td>\n",
       "      <td>254421.0</td>\n",
       "      <td>43</td>\n",
       "      <td>73</td>\n",
       "      <td>76</td>\n",
       "    </tr>\n",
       "    <tr>\n",
       "      <th>1</th>\n",
       "      <td>m/0878835</td>\n",
       "      <td>Please Give</td>\n",
       "      <td>Kate (Catherine Keener) and her husband Alex (...</td>\n",
       "      <td>Nicole Holofcener's newest might seem slight i...</td>\n",
       "      <td>R</td>\n",
       "      <td>Comedy</td>\n",
       "      <td>Nicole Holofcener</td>\n",
       "      <td>Nicole Holofcener</td>\n",
       "      <td>Catherine Keener, Amanda Peet, Oliver Platt, R...</td>\n",
       "      <td>2010-04-30</td>\n",
       "      <td>...</td>\n",
       "      <td>Sony Pictures Classics</td>\n",
       "      <td>Certified-Fresh</td>\n",
       "      <td>87.0</td>\n",
       "      <td>142.0</td>\n",
       "      <td>Upright</td>\n",
       "      <td>64.0</td>\n",
       "      <td>11574.0</td>\n",
       "      <td>44</td>\n",
       "      <td>123</td>\n",
       "      <td>19</td>\n",
       "    </tr>\n",
       "    <tr>\n",
       "      <th>2</th>\n",
       "      <td>m/10</td>\n",
       "      <td>10</td>\n",
       "      <td>A successful, middle-aged Hollywood songwriter...</td>\n",
       "      <td>Blake Edwards' bawdy comedy may not score a pe...</td>\n",
       "      <td>R</td>\n",
       "      <td>Comedy, Romance</td>\n",
       "      <td>Blake Edwards</td>\n",
       "      <td>Blake Edwards</td>\n",
       "      <td>Dudley Moore, Bo Derek, Julie Andrews, Robert ...</td>\n",
       "      <td>1979-10-05</td>\n",
       "      <td>...</td>\n",
       "      <td>Waner Bros.</td>\n",
       "      <td>Fresh</td>\n",
       "      <td>67.0</td>\n",
       "      <td>24.0</td>\n",
       "      <td>Spilled</td>\n",
       "      <td>53.0</td>\n",
       "      <td>14684.0</td>\n",
       "      <td>2</td>\n",
       "      <td>16</td>\n",
       "      <td>8</td>\n",
       "    </tr>\n",
       "    <tr>\n",
       "      <th>3</th>\n",
       "      <td>m/1000013-12_angry_men</td>\n",
       "      <td>12 Angry Men (Twelve Angry Men)</td>\n",
       "      <td>Following the closing arguments in a murder tr...</td>\n",
       "      <td>Sidney Lumet's feature debut is a superbly wri...</td>\n",
       "      <td>NR</td>\n",
       "      <td>Classics, Drama</td>\n",
       "      <td>Sidney Lumet</td>\n",
       "      <td>Reginald Rose</td>\n",
       "      <td>Martin Balsam, John Fiedler, Lee J. Cobb, E.G....</td>\n",
       "      <td>1957-04-13</td>\n",
       "      <td>...</td>\n",
       "      <td>Criterion Collection</td>\n",
       "      <td>Certified-Fresh</td>\n",
       "      <td>100.0</td>\n",
       "      <td>54.0</td>\n",
       "      <td>Upright</td>\n",
       "      <td>97.0</td>\n",
       "      <td>105386.0</td>\n",
       "      <td>6</td>\n",
       "      <td>54</td>\n",
       "      <td>0</td>\n",
       "    </tr>\n",
       "    <tr>\n",
       "      <th>4</th>\n",
       "      <td>m/1000079-20000_leagues_under_the_sea</td>\n",
       "      <td>20,000 Leagues Under The Sea</td>\n",
       "      <td>In 1866, Professor Pierre M. Aronnax (Paul Luk...</td>\n",
       "      <td>One of Disney's finest live-action adventures,...</td>\n",
       "      <td>G</td>\n",
       "      <td>Action &amp; Adventure, Drama, Kids &amp; Family</td>\n",
       "      <td>Richard Fleischer</td>\n",
       "      <td>Earl Felton</td>\n",
       "      <td>James Mason, Kirk Douglas, Paul Lukas, Peter L...</td>\n",
       "      <td>1954-01-01</td>\n",
       "      <td>...</td>\n",
       "      <td>Disney</td>\n",
       "      <td>Fresh</td>\n",
       "      <td>89.0</td>\n",
       "      <td>27.0</td>\n",
       "      <td>Upright</td>\n",
       "      <td>74.0</td>\n",
       "      <td>68918.0</td>\n",
       "      <td>5</td>\n",
       "      <td>24</td>\n",
       "      <td>3</td>\n",
       "    </tr>\n",
       "  </tbody>\n",
       "</table>\n",
       "<p>5 rows × 22 columns</p>\n",
       "</div>"
      ],
      "text/plain": [
       "                    rotten_tomatoes_link  \\\n",
       "0                              m/0814255   \n",
       "1                              m/0878835   \n",
       "2                                   m/10   \n",
       "3                 m/1000013-12_angry_men   \n",
       "4  m/1000079-20000_leagues_under_the_sea   \n",
       "\n",
       "                                         movie_title  \\\n",
       "0  Percy Jackson & the Olympians: The Lightning T...   \n",
       "1                                        Please Give   \n",
       "2                                                 10   \n",
       "3                    12 Angry Men (Twelve Angry Men)   \n",
       "4                       20,000 Leagues Under The Sea   \n",
       "\n",
       "                                          movie_info  \\\n",
       "0  Always trouble-prone, the life of teenager Per...   \n",
       "1  Kate (Catherine Keener) and her husband Alex (...   \n",
       "2  A successful, middle-aged Hollywood songwriter...   \n",
       "3  Following the closing arguments in a murder tr...   \n",
       "4  In 1866, Professor Pierre M. Aronnax (Paul Luk...   \n",
       "\n",
       "                                   critics_consensus content_rating  \\\n",
       "0  Though it may seem like just another Harry Pot...             PG   \n",
       "1  Nicole Holofcener's newest might seem slight i...              R   \n",
       "2  Blake Edwards' bawdy comedy may not score a pe...              R   \n",
       "3  Sidney Lumet's feature debut is a superbly wri...             NR   \n",
       "4  One of Disney's finest live-action adventures,...              G   \n",
       "\n",
       "                                              genres          directors  \\\n",
       "0  Action & Adventure, Comedy, Drama, Science Fic...     Chris Columbus   \n",
       "1                                             Comedy  Nicole Holofcener   \n",
       "2                                    Comedy, Romance      Blake Edwards   \n",
       "3                                    Classics, Drama       Sidney Lumet   \n",
       "4           Action & Adventure, Drama, Kids & Family  Richard Fleischer   \n",
       "\n",
       "                                      authors  \\\n",
       "0  Craig Titley, Chris Columbus, Rick Riordan   \n",
       "1                           Nicole Holofcener   \n",
       "2                               Blake Edwards   \n",
       "3                               Reginald Rose   \n",
       "4                                 Earl Felton   \n",
       "\n",
       "                                              actors original_release_date  \\\n",
       "0  Logan Lerman, Brandon T. Jackson, Alexandra Da...            2010-02-12   \n",
       "1  Catherine Keener, Amanda Peet, Oliver Platt, R...            2010-04-30   \n",
       "2  Dudley Moore, Bo Derek, Julie Andrews, Robert ...            1979-10-05   \n",
       "3  Martin Balsam, John Fiedler, Lee J. Cobb, E.G....            1957-04-13   \n",
       "4  James Mason, Kirk Douglas, Paul Lukas, Peter L...            1954-01-01   \n",
       "\n",
       "   ...      production_company  tomatometer_status tomatometer_rating  \\\n",
       "0  ...        20th Century Fox              Rotten               49.0   \n",
       "1  ...  Sony Pictures Classics     Certified-Fresh               87.0   \n",
       "2  ...             Waner Bros.               Fresh               67.0   \n",
       "3  ...    Criterion Collection     Certified-Fresh              100.0   \n",
       "4  ...                  Disney               Fresh               89.0   \n",
       "\n",
       "  tomatometer_count  audience_status  audience_rating audience_count  \\\n",
       "0             149.0          Spilled             53.0       254421.0   \n",
       "1             142.0          Upright             64.0        11574.0   \n",
       "2              24.0          Spilled             53.0        14684.0   \n",
       "3              54.0          Upright             97.0       105386.0   \n",
       "4              27.0          Upright             74.0        68918.0   \n",
       "\n",
       "   tomatometer_top_critics_count  tomatometer_fresh_critics_count  \\\n",
       "0                             43                               73   \n",
       "1                             44                              123   \n",
       "2                              2                               16   \n",
       "3                              6                               54   \n",
       "4                              5                               24   \n",
       "\n",
       "   tomatometer_rotten_critics_count  \n",
       "0                                76  \n",
       "1                                19  \n",
       "2                                 8  \n",
       "3                                 0  \n",
       "4                                 3  \n",
       "\n",
       "[5 rows x 22 columns]"
      ]
     },
     "execution_count": 4,
     "metadata": {},
     "output_type": "execute_result"
    }
   ],
   "source": [
    "file_path = \"/Users/madhulika/Downloads/rotten_tomatoes_movies.csv\"\n",
    "df_movie = pd.read_csv(file_path)\n",
    "df_movie.head()"
   ]
  },
  {
   "cell_type": "markdown",
   "id": "8fbe25b0-2590-4247-bd6a-51269de8369e",
   "metadata": {},
   "source": [
    "As we can see, there are several columns available in our dataset:\n",
    "\n",
    "1. rotten_tomatoes_link: permalink to the movie’s Rotten Tomatoes page\n",
    "2. movie_title: title of the film\n",
    "3. movie_info: brief synopsis\n",
    "4. critics_consensus: summary of the prevailing critic opinion\n",
    "5. content_rating: suitability rating based on content\n",
    "6. genres: movie genre tags\n",
    "7. directors: director names\n",
    "8. authors: screenwriter credits\n",
    "9. actors: principal cast\n",
    "10. original_release_date: theatrical release date\n",
    "11. streaming_release_date: streaming release date\n",
    "12. runtime: duration in minutes\n",
    "13. production_company: producing studio\n",
    "14. tomatometer_status: Rotten Tomatoes classification to be predicted\n",
    "15. tomatometer_rating: Tomatometer score\n",
    "16. tomatometer_count: number of critic reviews\n",
    "17. audience_status: audience classification\n",
    "18. audience_rating: audience score\n",
    "19. audience_count: number of audience reviews\n",
    "20. tomatometer_top_critics_count: count of reviews by top critics\n",
    "21. tomatometer_fresh_critics_count: count of top critic reviews labeled fresh\n",
    "22. tomatometer_rotten_critics_count: count of top critic reviews labeled rotten"
   ]
  },
  {
   "cell_type": "markdown",
   "id": "595bac2d-5170-4a8b-b931-6986331d3d7d",
   "metadata": {},
   "source": [
    "Let's take a look at the summary of our data to better understand it"
   ]
  },
  {
   "cell_type": "code",
   "execution_count": 5,
   "id": "4037c7d6-a447-471a-8956-e825f805f3aa",
   "metadata": {},
   "outputs": [
    {
     "data": {
      "text/html": [
       "<div>\n",
       "<style scoped>\n",
       "    .dataframe tbody tr th:only-of-type {\n",
       "        vertical-align: middle;\n",
       "    }\n",
       "\n",
       "    .dataframe tbody tr th {\n",
       "        vertical-align: top;\n",
       "    }\n",
       "\n",
       "    .dataframe thead th {\n",
       "        text-align: right;\n",
       "    }\n",
       "</style>\n",
       "<table border=\"1\" class=\"dataframe\">\n",
       "  <thead>\n",
       "    <tr style=\"text-align: right;\">\n",
       "      <th></th>\n",
       "      <th>runtime</th>\n",
       "      <th>tomatometer_rating</th>\n",
       "      <th>tomatometer_count</th>\n",
       "      <th>audience_rating</th>\n",
       "      <th>audience_count</th>\n",
       "      <th>tomatometer_top_critics_count</th>\n",
       "      <th>tomatometer_fresh_critics_count</th>\n",
       "      <th>tomatometer_rotten_critics_count</th>\n",
       "    </tr>\n",
       "  </thead>\n",
       "  <tbody>\n",
       "    <tr>\n",
       "      <th>count</th>\n",
       "      <td>17398.000000</td>\n",
       "      <td>17668.000000</td>\n",
       "      <td>17668.000000</td>\n",
       "      <td>17416.000000</td>\n",
       "      <td>1.741500e+04</td>\n",
       "      <td>17712.000000</td>\n",
       "      <td>17712.000000</td>\n",
       "      <td>17712.000000</td>\n",
       "    </tr>\n",
       "    <tr>\n",
       "      <th>mean</th>\n",
       "      <td>102.214048</td>\n",
       "      <td>60.884763</td>\n",
       "      <td>57.139801</td>\n",
       "      <td>60.554260</td>\n",
       "      <td>1.439401e+05</td>\n",
       "      <td>14.586326</td>\n",
       "      <td>36.374831</td>\n",
       "      <td>20.703139</td>\n",
       "    </tr>\n",
       "    <tr>\n",
       "      <th>std</th>\n",
       "      <td>18.702511</td>\n",
       "      <td>28.443348</td>\n",
       "      <td>68.370047</td>\n",
       "      <td>20.543369</td>\n",
       "      <td>1.763577e+06</td>\n",
       "      <td>15.146349</td>\n",
       "      <td>52.601038</td>\n",
       "      <td>30.248435</td>\n",
       "    </tr>\n",
       "    <tr>\n",
       "      <th>min</th>\n",
       "      <td>5.000000</td>\n",
       "      <td>0.000000</td>\n",
       "      <td>5.000000</td>\n",
       "      <td>0.000000</td>\n",
       "      <td>5.000000e+00</td>\n",
       "      <td>0.000000</td>\n",
       "      <td>0.000000</td>\n",
       "      <td>0.000000</td>\n",
       "    </tr>\n",
       "    <tr>\n",
       "      <th>25%</th>\n",
       "      <td>90.000000</td>\n",
       "      <td>38.000000</td>\n",
       "      <td>12.000000</td>\n",
       "      <td>45.000000</td>\n",
       "      <td>7.075000e+02</td>\n",
       "      <td>3.000000</td>\n",
       "      <td>6.000000</td>\n",
       "      <td>3.000000</td>\n",
       "    </tr>\n",
       "    <tr>\n",
       "      <th>50%</th>\n",
       "      <td>99.000000</td>\n",
       "      <td>67.000000</td>\n",
       "      <td>28.000000</td>\n",
       "      <td>63.000000</td>\n",
       "      <td>4.277000e+03</td>\n",
       "      <td>8.000000</td>\n",
       "      <td>16.000000</td>\n",
       "      <td>8.000000</td>\n",
       "    </tr>\n",
       "    <tr>\n",
       "      <th>75%</th>\n",
       "      <td>111.000000</td>\n",
       "      <td>86.000000</td>\n",
       "      <td>75.000000</td>\n",
       "      <td>78.000000</td>\n",
       "      <td>2.498800e+04</td>\n",
       "      <td>23.000000</td>\n",
       "      <td>44.000000</td>\n",
       "      <td>24.000000</td>\n",
       "    </tr>\n",
       "    <tr>\n",
       "      <th>max</th>\n",
       "      <td>266.000000</td>\n",
       "      <td>100.000000</td>\n",
       "      <td>574.000000</td>\n",
       "      <td>100.000000</td>\n",
       "      <td>3.579764e+07</td>\n",
       "      <td>69.000000</td>\n",
       "      <td>497.000000</td>\n",
       "      <td>303.000000</td>\n",
       "    </tr>\n",
       "  </tbody>\n",
       "</table>\n",
       "</div>"
      ],
      "text/plain": [
       "            runtime  tomatometer_rating  tomatometer_count  audience_rating  \\\n",
       "count  17398.000000        17668.000000       17668.000000     17416.000000   \n",
       "mean     102.214048           60.884763          57.139801        60.554260   \n",
       "std       18.702511           28.443348          68.370047        20.543369   \n",
       "min        5.000000            0.000000           5.000000         0.000000   \n",
       "25%       90.000000           38.000000          12.000000        45.000000   \n",
       "50%       99.000000           67.000000          28.000000        63.000000   \n",
       "75%      111.000000           86.000000          75.000000        78.000000   \n",
       "max      266.000000          100.000000         574.000000       100.000000   \n",
       "\n",
       "       audience_count  tomatometer_top_critics_count  \\\n",
       "count    1.741500e+04                   17712.000000   \n",
       "mean     1.439401e+05                      14.586326   \n",
       "std      1.763577e+06                      15.146349   \n",
       "min      5.000000e+00                       0.000000   \n",
       "25%      7.075000e+02                       3.000000   \n",
       "50%      4.277000e+03                       8.000000   \n",
       "75%      2.498800e+04                      23.000000   \n",
       "max      3.579764e+07                      69.000000   \n",
       "\n",
       "       tomatometer_fresh_critics_count  tomatometer_rotten_critics_count  \n",
       "count                     17712.000000                      17712.000000  \n",
       "mean                         36.374831                         20.703139  \n",
       "std                          52.601038                         30.248435  \n",
       "min                           0.000000                          0.000000  \n",
       "25%                           6.000000                          3.000000  \n",
       "50%                          16.000000                          8.000000  \n",
       "75%                          44.000000                         24.000000  \n",
       "max                         497.000000                        303.000000  "
      ]
     },
     "execution_count": 5,
     "metadata": {},
     "output_type": "execute_result"
    }
   ],
   "source": [
    "df_movie.describe()"
   ]
  },
  {
   "cell_type": "markdown",
   "id": "de8489ca-3e37-45e2-b2e7-ecb233d3f740",
   "metadata": {},
   "source": [
    "### Data Preprocessing"
   ]
  },
  {
   "cell_type": "markdown",
   "id": "9b4ce60c-747c-4deb-bb36-61628d2dbe0e",
   "metadata": {},
   "source": [
    "From the data summary, the numeric features include runtime, tomatometer_rating, tomatometer_count, audience_rating, audience_count, and the critic count fields (top, fresh, rotten). These will serve as predictors for the target variable tomatometer_status. Some of these columns contain missing values that will need to be handled later."
   ]
  },
  {
   "cell_type": "markdown",
   "id": "e5a5261a-e4e7-42df-a842-496c50b14f52",
   "metadata": {},
   "source": [
    "Before moving forward, I want to add features that could improve the predictive strength of the tree models. I’ll begin with the content_rating variable, which is categorical with values like R, PG, and NR."
   ]
  },
  {
   "cell_type": "code",
   "execution_count": 9,
   "id": "0be2efa5-b6ab-4578-931e-140dc374936c",
   "metadata": {},
   "outputs": [
    {
     "name": "stdout",
     "output_type": "stream",
     "text": [
      "Content Rating Category: ['PG' 'R' 'NR' 'G' 'PG-13' 'NC17']\n"
     ]
    },
    {
     "data": {
      "text/plain": [
       "[Text(0, 0, '6377'),\n",
       " Text(0, 0, '5474'),\n",
       " Text(0, 0, '2979'),\n",
       " Text(0, 0, '2168'),\n",
       " Text(0, 0, '676'),\n",
       " Text(0, 0, '38')]"
      ]
     },
     "execution_count": 9,
     "metadata": {},
     "output_type": "execute_result"
    },
    {
     "data": {
      "image/png": "[encoded data removed]",
      "text/plain": [
       "<Figure size 1200x900 with 1 Axes>"
      ]
     },
     "metadata": {},
     "output_type": "display_data"
    }
   ],
   "source": [
    "print(f'Content Rating Category: {df_movie.content_rating.unique()}')\n",
    "\n",
    "#Visualize the distribution of each category\n",
    "ax = df_movie.content_rating.value_counts().plot(kind='bar',figsize=(12,9))\n",
    "ax.bar_label(ax.containers[0])"
   ]
  },
  {
   "cell_type": "markdown",
   "id": "a699b961-fa65-46d1-b22f-806d2076acf6",
   "metadata": {},
   "source": [
    "I’m taking the categorical column content_rating and converting it to numbers so the model can learn from it. Models expect numeric inputs, so categories need encoding. There are two common choices, and I am picking based on what the data means:\n",
    "1. Ordinal encoding when categories have a natural order, for example poor → 0, average → 1, good → 2.\n",
    "2. One hot encoding when categories have no order, for example colors: black → [1,0,0], red → [0,1,0], blue → [0,0,1].\n",
    "\n",
    "Since content_rating values like G, PG, PG-13, R, NR do not represent a ranked magnitude, I am applying one hot encoding. In code, this looks like using pd.get_dummies(df_movie.content_rating) and then concatenating the resulting indicator columns into the feature set."
   ]
  },
  {
   "cell_type": "code",
   "execution_count": 101,
   "id": "1c0efa73-2bf5-4bce-bd40-8f7783f8e91a",
   "metadata": {},
   "outputs": [
    {
     "data": {
      "text/html": [
       "<div>\n",
       "<style scoped>\n",
       "    .dataframe tbody tr th:only-of-type {\n",
       "        vertical-align: middle;\n",
       "    }\n",
       "\n",
       "    .dataframe tbody tr th {\n",
       "        vertical-align: top;\n",
       "    }\n",
       "\n",
       "    .dataframe thead th {\n",
       "        text-align: right;\n",
       "    }\n",
       "</style>\n",
       "<table border=\"1\" class=\"dataframe\">\n",
       "  <thead>\n",
       "    <tr style=\"text-align: right;\">\n",
       "      <th></th>\n",
       "      <th>G</th>\n",
       "      <th>NC17</th>\n",
       "      <th>NR</th>\n",
       "      <th>PG</th>\n",
       "      <th>PG-13</th>\n",
       "      <th>R</th>\n",
       "    </tr>\n",
       "  </thead>\n",
       "  <tbody>\n",
       "    <tr>\n",
       "      <th>0</th>\n",
       "      <td>False</td>\n",
       "      <td>False</td>\n",
       "      <td>False</td>\n",
       "      <td>True</td>\n",
       "      <td>False</td>\n",
       "      <td>False</td>\n",
       "    </tr>\n",
       "    <tr>\n",
       "      <th>1</th>\n",
       "      <td>False</td>\n",
       "      <td>False</td>\n",
       "      <td>False</td>\n",
       "      <td>False</td>\n",
       "      <td>False</td>\n",
       "      <td>True</td>\n",
       "    </tr>\n",
       "    <tr>\n",
       "      <th>2</th>\n",
       "      <td>False</td>\n",
       "      <td>False</td>\n",
       "      <td>False</td>\n",
       "      <td>False</td>\n",
       "      <td>False</td>\n",
       "      <td>True</td>\n",
       "    </tr>\n",
       "    <tr>\n",
       "      <th>3</th>\n",
       "      <td>False</td>\n",
       "      <td>False</td>\n",
       "      <td>True</td>\n",
       "      <td>False</td>\n",
       "      <td>False</td>\n",
       "      <td>False</td>\n",
       "    </tr>\n",
       "    <tr>\n",
       "      <th>4</th>\n",
       "      <td>True</td>\n",
       "      <td>False</td>\n",
       "      <td>False</td>\n",
       "      <td>False</td>\n",
       "      <td>False</td>\n",
       "      <td>False</td>\n",
       "    </tr>\n",
       "  </tbody>\n",
       "</table>\n",
       "</div>"
      ],
      "text/plain": [
       "       G   NC17     NR     PG  PG-13      R\n",
       "0  False  False  False   True  False  False\n",
       "1  False  False  False  False  False   True\n",
       "2  False  False  False  False  False   True\n",
       "3  False  False   True  False  False  False\n",
       "4   True  False  False  False  False  False"
      ]
     },
     "execution_count": 101,
     "metadata": {},
     "output_type": "execute_result"
    }
   ],
   "source": [
    "content_rating = pd.get_dummies(df_movie.content_rating)\n",
    "content_rating.head()"
   ]
  },
  {
   "cell_type": "markdown",
   "id": "f492905f-4204-45d7-9cad-75db3e83f581",
   "metadata": {},
   "source": [
    "Preprocessing audience_status as a binary predictor. It has two categories, Spilled and Upright, so I am encoding it as a single numeric column instead of text. Assigning one value to one category and the other value to the other category keeps the representation compact, avoids creating extra dummy columns, and lets the model learn from it directly."
   ]
  },
  {
   "cell_type": "code",
   "execution_count": 100,
   "id": "89334da6-d1e8-4b31-9e1b-491b3740135d",
   "metadata": {},
   "outputs": [
    {
     "name": "stdout",
     "output_type": "stream",
     "text": [
      "Audience status category: ['Spilled' 'Upright' nan]\n"
     ]
    },
    {
     "data": {
      "text/plain": [
       "[Text(0, 0, '9390'), Text(0, 0, '7874')]"
      ]
     },
     "execution_count": 100,
     "metadata": {},
     "output_type": "execute_result"
    },
    {
     "data": {
      "image/png": "[encoded data removed]",
      "text/plain": [
       "<Figure size 1200x900 with 1 Axes>"
      ]
     },
     "metadata": {},
     "output_type": "display_data"
    }
   ],
   "source": [
    "print(f'Audience status category: {df_movie.audience_status.unique()}')\n",
    "\n",
    "# Visualize the distribution of each category\n",
    "ax = df_movie.audience_status.value_counts().plot(kind='bar', figsize=(12,9))\n",
    "ax.bar_label(ax.containers[0])"
   ]
  },
  {
   "cell_type": "code",
   "execution_count": 18,
   "id": "2bc6b009-15bc-4a89-9112-0c2616813a39",
   "metadata": {},
   "outputs": [
    {
     "name": "stderr",
     "output_type": "stream",
     "text": [
      "/var/folders/61/br8wr2d92qq0jbw44qm3yc3h0000gn/T/ipykernel_4487/2452658047.py:3: FutureWarning: Downcasting behavior in `replace` is deprecated and will be removed in a future version. To retain the old behavior, explicitly call `result.infer_objects(copy=False)`. To opt-in to the future behavior, set `pd.set_option('future.no_silent_downcasting', True)`\n",
      "  audience_status = pd.DataFrame(df_movie.audience_status.replace(['Spilled','Upright'],[0,1]).infer_objects(copy=False))\n"
     ]
    },
    {
     "data": {
      "text/html": [
       "<div>\n",
       "<style scoped>\n",
       "    .dataframe tbody tr th:only-of-type {\n",
       "        vertical-align: middle;\n",
       "    }\n",
       "\n",
       "    .dataframe tbody tr th {\n",
       "        vertical-align: top;\n",
       "    }\n",
       "\n",
       "    .dataframe thead th {\n",
       "        text-align: right;\n",
       "    }\n",
       "</style>\n",
       "<table border=\"1\" class=\"dataframe\">\n",
       "  <thead>\n",
       "    <tr style=\"text-align: right;\">\n",
       "      <th></th>\n",
       "      <th>audience_status</th>\n",
       "    </tr>\n",
       "  </thead>\n",
       "  <tbody>\n",
       "    <tr>\n",
       "      <th>0</th>\n",
       "      <td>0.0</td>\n",
       "    </tr>\n",
       "    <tr>\n",
       "      <th>1</th>\n",
       "      <td>1.0</td>\n",
       "    </tr>\n",
       "    <tr>\n",
       "      <th>2</th>\n",
       "      <td>0.0</td>\n",
       "    </tr>\n",
       "    <tr>\n",
       "      <th>3</th>\n",
       "      <td>1.0</td>\n",
       "    </tr>\n",
       "    <tr>\n",
       "      <th>4</th>\n",
       "      <td>1.0</td>\n",
       "    </tr>\n",
       "  </tbody>\n",
       "</table>\n",
       "</div>"
      ],
      "text/plain": [
       "   audience_status\n",
       "0              0.0\n",
       "1              1.0\n",
       "2              0.0\n",
       "3              1.0\n",
       "4              1.0"
      ]
     },
     "execution_count": 18,
     "metadata": {},
     "output_type": "execute_result"
    }
   ],
   "source": [
    "#Encode audience status variable with ordinal encoding\n",
    "\n",
    "audience_status = pd.DataFrame(df_movie.audience_status.replace(['Spilled','Upright'],[0,1]).infer_objects(copy=False))\n",
    "audience_status.head()"
   ]
  },
  {
   "cell_type": "markdown",
   "id": "ec452cbb-af96-4357-87d9-787a69fde659",
   "metadata": {},
   "source": [
    "The last variable to encode is the target tomatometer_status. It contains three categories: Rotten, Fresh, and Certified-Fresh. To make it usable for modeling, I am applying ordinal encoding so that each category is mapped to a numeric value. This way the labels can be represented as 0, 1, 2 instead of text, allowing the model to process them as the dependent variable."
   ]
  },
  {
   "cell_type": "code",
   "execution_count": 19,
   "id": "e46d6790-8cc6-4805-b7f9-ca48877b70a0",
   "metadata": {},
   "outputs": [
    {
     "name": "stderr",
     "output_type": "stream",
     "text": [
      "/var/folders/61/br8wr2d92qq0jbw44qm3yc3h0000gn/T/ipykernel_4487/2056684334.py:3: FutureWarning: Downcasting behavior in `replace` is deprecated and will be removed in a future version. To retain the old behavior, explicitly call `result.infer_objects(copy=False)`. To opt-in to the future behavior, set `pd.set_option('future.no_silent_downcasting', True)`\n",
      "  tomatometer_status = pd.DataFrame(df_movie.tomatometer_status.replace(['Rotten','Fresh','Certified-Fresh'],[0,1,2]))\n"
     ]
    },
    {
     "data": {
      "text/html": [
       "<div>\n",
       "<style scoped>\n",
       "    .dataframe tbody tr th:only-of-type {\n",
       "        vertical-align: middle;\n",
       "    }\n",
       "\n",
       "    .dataframe tbody tr th {\n",
       "        vertical-align: top;\n",
       "    }\n",
       "\n",
       "    .dataframe thead th {\n",
       "        text-align: right;\n",
       "    }\n",
       "</style>\n",
       "<table border=\"1\" class=\"dataframe\">\n",
       "  <thead>\n",
       "    <tr style=\"text-align: right;\">\n",
       "      <th></th>\n",
       "      <th>tomatometer_status</th>\n",
       "    </tr>\n",
       "  </thead>\n",
       "  <tbody>\n",
       "    <tr>\n",
       "      <th>0</th>\n",
       "      <td>0.0</td>\n",
       "    </tr>\n",
       "    <tr>\n",
       "      <th>1</th>\n",
       "      <td>2.0</td>\n",
       "    </tr>\n",
       "    <tr>\n",
       "      <th>2</th>\n",
       "      <td>1.0</td>\n",
       "    </tr>\n",
       "    <tr>\n",
       "      <th>3</th>\n",
       "      <td>2.0</td>\n",
       "    </tr>\n",
       "    <tr>\n",
       "      <th>4</th>\n",
       "      <td>1.0</td>\n",
       "    </tr>\n",
       "    <tr>\n",
       "      <th>...</th>\n",
       "      <td>...</td>\n",
       "    </tr>\n",
       "    <tr>\n",
       "      <th>17707</th>\n",
       "      <td>0.0</td>\n",
       "    </tr>\n",
       "    <tr>\n",
       "      <th>17708</th>\n",
       "      <td>2.0</td>\n",
       "    </tr>\n",
       "    <tr>\n",
       "      <th>17709</th>\n",
       "      <td>1.0</td>\n",
       "    </tr>\n",
       "    <tr>\n",
       "      <th>17710</th>\n",
       "      <td>1.0</td>\n",
       "    </tr>\n",
       "    <tr>\n",
       "      <th>17711</th>\n",
       "      <td>0.0</td>\n",
       "    </tr>\n",
       "  </tbody>\n",
       "</table>\n",
       "<p>17712 rows × 1 columns</p>\n",
       "</div>"
      ],
      "text/plain": [
       "       tomatometer_status\n",
       "0                     0.0\n",
       "1                     2.0\n",
       "2                     1.0\n",
       "3                     2.0\n",
       "4                     1.0\n",
       "...                   ...\n",
       "17707                 0.0\n",
       "17708                 2.0\n",
       "17709                 1.0\n",
       "17710                 1.0\n",
       "17711                 0.0\n",
       "\n",
       "[17712 rows x 1 columns]"
      ]
     },
     "execution_count": 19,
     "metadata": {},
     "output_type": "execute_result"
    }
   ],
   "source": [
    "#Encode tomatometer status variable with ordinal encoding\n",
    "\n",
    "tomatometer_status = pd.DataFrame(df_movie.tomatometer_status.replace(['Rotten','Fresh','Certified-Fresh'],[0,1,2]))\n",
    "tomatometer_status"
   ]
  },
  {
   "cell_type": "markdown",
   "id": "f7e9364f-2393-4c6d-ab61-9d0796322d19",
   "metadata": {},
   "source": [
    "At this stage, all required variables are encoded. The next step is combining them with the existing numerical features to form a single feature set. I am using pd.concat() to join these DataFrames side by side. Since some columns contain missing values, I am handling them by dropping any row that has a missing entry in at least one column. This keeps the dataset clean and ready for modeling."
   ]
  },
  {
   "cell_type": "code",
   "execution_count": 20,
   "id": "cc3b15ca-da74-48b2-981d-ee46fbadd528",
   "metadata": {},
   "outputs": [
    {
     "data": {
      "text/html": [
       "<div>\n",
       "<style scoped>\n",
       "    .dataframe tbody tr th:only-of-type {\n",
       "        vertical-align: middle;\n",
       "    }\n",
       "\n",
       "    .dataframe tbody tr th {\n",
       "        vertical-align: top;\n",
       "    }\n",
       "\n",
       "    .dataframe thead th {\n",
       "        text-align: right;\n",
       "    }\n",
       "</style>\n",
       "<table border=\"1\" class=\"dataframe\">\n",
       "  <thead>\n",
       "    <tr style=\"text-align: right;\">\n",
       "      <th></th>\n",
       "      <th>runtime</th>\n",
       "      <th>tomatometer_rating</th>\n",
       "      <th>tomatometer_count</th>\n",
       "      <th>audience_rating</th>\n",
       "      <th>audience_count</th>\n",
       "      <th>tomatometer_top_critics_count</th>\n",
       "      <th>tomatometer_fresh_critics_count</th>\n",
       "      <th>tomatometer_rotten_critics_count</th>\n",
       "      <th>G</th>\n",
       "      <th>NC17</th>\n",
       "      <th>NR</th>\n",
       "      <th>PG</th>\n",
       "      <th>PG-13</th>\n",
       "      <th>R</th>\n",
       "      <th>audience_status</th>\n",
       "      <th>tomatometer_status</th>\n",
       "    </tr>\n",
       "  </thead>\n",
       "  <tbody>\n",
       "    <tr>\n",
       "      <th>0</th>\n",
       "      <td>119.0</td>\n",
       "      <td>49.0</td>\n",
       "      <td>149.0</td>\n",
       "      <td>53.0</td>\n",
       "      <td>254421.0</td>\n",
       "      <td>43</td>\n",
       "      <td>73</td>\n",
       "      <td>76</td>\n",
       "      <td>False</td>\n",
       "      <td>False</td>\n",
       "      <td>False</td>\n",
       "      <td>True</td>\n",
       "      <td>False</td>\n",
       "      <td>False</td>\n",
       "      <td>0.0</td>\n",
       "      <td>0.0</td>\n",
       "    </tr>\n",
       "    <tr>\n",
       "      <th>1</th>\n",
       "      <td>90.0</td>\n",
       "      <td>87.0</td>\n",
       "      <td>142.0</td>\n",
       "      <td>64.0</td>\n",
       "      <td>11574.0</td>\n",
       "      <td>44</td>\n",
       "      <td>123</td>\n",
       "      <td>19</td>\n",
       "      <td>False</td>\n",
       "      <td>False</td>\n",
       "      <td>False</td>\n",
       "      <td>False</td>\n",
       "      <td>False</td>\n",
       "      <td>True</td>\n",
       "      <td>1.0</td>\n",
       "      <td>2.0</td>\n",
       "    </tr>\n",
       "    <tr>\n",
       "      <th>2</th>\n",
       "      <td>122.0</td>\n",
       "      <td>67.0</td>\n",
       "      <td>24.0</td>\n",
       "      <td>53.0</td>\n",
       "      <td>14684.0</td>\n",
       "      <td>2</td>\n",
       "      <td>16</td>\n",
       "      <td>8</td>\n",
       "      <td>False</td>\n",
       "      <td>False</td>\n",
       "      <td>False</td>\n",
       "      <td>False</td>\n",
       "      <td>False</td>\n",
       "      <td>True</td>\n",
       "      <td>0.0</td>\n",
       "      <td>1.0</td>\n",
       "    </tr>\n",
       "    <tr>\n",
       "      <th>3</th>\n",
       "      <td>95.0</td>\n",
       "      <td>100.0</td>\n",
       "      <td>54.0</td>\n",
       "      <td>97.0</td>\n",
       "      <td>105386.0</td>\n",
       "      <td>6</td>\n",
       "      <td>54</td>\n",
       "      <td>0</td>\n",
       "      <td>False</td>\n",
       "      <td>False</td>\n",
       "      <td>True</td>\n",
       "      <td>False</td>\n",
       "      <td>False</td>\n",
       "      <td>False</td>\n",
       "      <td>1.0</td>\n",
       "      <td>2.0</td>\n",
       "    </tr>\n",
       "    <tr>\n",
       "      <th>4</th>\n",
       "      <td>127.0</td>\n",
       "      <td>89.0</td>\n",
       "      <td>27.0</td>\n",
       "      <td>74.0</td>\n",
       "      <td>68918.0</td>\n",
       "      <td>5</td>\n",
       "      <td>24</td>\n",
       "      <td>3</td>\n",
       "      <td>True</td>\n",
       "      <td>False</td>\n",
       "      <td>False</td>\n",
       "      <td>False</td>\n",
       "      <td>False</td>\n",
       "      <td>False</td>\n",
       "      <td>1.0</td>\n",
       "      <td>1.0</td>\n",
       "    </tr>\n",
       "  </tbody>\n",
       "</table>\n",
       "</div>"
      ],
      "text/plain": [
       "   runtime  tomatometer_rating  tomatometer_count  audience_rating  \\\n",
       "0    119.0                49.0              149.0             53.0   \n",
       "1     90.0                87.0              142.0             64.0   \n",
       "2    122.0                67.0               24.0             53.0   \n",
       "3     95.0               100.0               54.0             97.0   \n",
       "4    127.0                89.0               27.0             74.0   \n",
       "\n",
       "   audience_count  tomatometer_top_critics_count  \\\n",
       "0        254421.0                             43   \n",
       "1         11574.0                             44   \n",
       "2         14684.0                              2   \n",
       "3        105386.0                              6   \n",
       "4         68918.0                              5   \n",
       "\n",
       "   tomatometer_fresh_critics_count  tomatometer_rotten_critics_count      G  \\\n",
       "0                               73                                76  False   \n",
       "1                              123                                19  False   \n",
       "2                               16                                 8  False   \n",
       "3                               54                                 0  False   \n",
       "4                               24                                 3   True   \n",
       "\n",
       "    NC17     NR     PG  PG-13      R  audience_status  tomatometer_status  \n",
       "0  False  False   True  False  False              0.0                 0.0  \n",
       "1  False  False  False  False   True              1.0                 2.0  \n",
       "2  False  False  False  False   True              0.0                 1.0  \n",
       "3  False   True  False  False  False              1.0                 2.0  \n",
       "4  False  False  False  False  False              1.0                 1.0  "
      ]
     },
     "execution_count": 20,
     "metadata": {},
     "output_type": "execute_result"
    }
   ],
   "source": [
    "df_feature = pd.concat([df_movie[['runtime','tomatometer_rating','tomatometer_count','audience_rating','audience_count',\n",
    "                                  'tomatometer_top_critics_count','tomatometer_fresh_critics_count','tomatometer_rotten_critics_count']],\n",
    "                                   content_rating,audience_status,tomatometer_status],axis=1).dropna()\n",
    "df_feature.head()"
   ]
  },
  {
   "cell_type": "code",
   "execution_count": 21,
   "id": "23013ebb-5ddc-44f8-a040-9265728375ca",
   "metadata": {},
   "outputs": [
    {
     "data": {
      "text/html": [
       "<div>\n",
       "<style scoped>\n",
       "    .dataframe tbody tr th:only-of-type {\n",
       "        vertical-align: middle;\n",
       "    }\n",
       "\n",
       "    .dataframe tbody tr th {\n",
       "        vertical-align: top;\n",
       "    }\n",
       "\n",
       "    .dataframe thead th {\n",
       "        text-align: right;\n",
       "    }\n",
       "</style>\n",
       "<table border=\"1\" class=\"dataframe\">\n",
       "  <thead>\n",
       "    <tr style=\"text-align: right;\">\n",
       "      <th></th>\n",
       "      <th>runtime</th>\n",
       "      <th>tomatometer_rating</th>\n",
       "      <th>tomatometer_count</th>\n",
       "      <th>audience_rating</th>\n",
       "      <th>audience_count</th>\n",
       "      <th>tomatometer_top_critics_count</th>\n",
       "      <th>tomatometer_fresh_critics_count</th>\n",
       "      <th>tomatometer_rotten_critics_count</th>\n",
       "      <th>audience_status</th>\n",
       "      <th>tomatometer_status</th>\n",
       "    </tr>\n",
       "  </thead>\n",
       "  <tbody>\n",
       "    <tr>\n",
       "      <th>count</th>\n",
       "      <td>17017.000000</td>\n",
       "      <td>17017.000000</td>\n",
       "      <td>17017.000000</td>\n",
       "      <td>17017.000000</td>\n",
       "      <td>1.701700e+04</td>\n",
       "      <td>17017.000000</td>\n",
       "      <td>17017.000000</td>\n",
       "      <td>17017.000000</td>\n",
       "      <td>17017.000000</td>\n",
       "      <td>17017.000000</td>\n",
       "    </tr>\n",
       "    <tr>\n",
       "      <th>mean</th>\n",
       "      <td>102.296233</td>\n",
       "      <td>60.519539</td>\n",
       "      <td>57.097197</td>\n",
       "      <td>60.324499</td>\n",
       "      <td>1.471183e+05</td>\n",
       "      <td>14.765999</td>\n",
       "      <td>36.237292</td>\n",
       "      <td>20.871188</td>\n",
       "      <td>0.542928</td>\n",
       "      <td>0.752718</td>\n",
       "    </tr>\n",
       "    <tr>\n",
       "      <th>std</th>\n",
       "      <td>18.653649</td>\n",
       "      <td>28.436397</td>\n",
       "      <td>66.814580</td>\n",
       "      <td>20.480600</td>\n",
       "      <td>1.783955e+06</td>\n",
       "      <td>15.172256</td>\n",
       "      <td>51.362454</td>\n",
       "      <td>29.978900</td>\n",
       "      <td>0.498168</td>\n",
       "      <td>0.747250</td>\n",
       "    </tr>\n",
       "    <tr>\n",
       "      <th>min</th>\n",
       "      <td>5.000000</td>\n",
       "      <td>0.000000</td>\n",
       "      <td>5.000000</td>\n",
       "      <td>0.000000</td>\n",
       "      <td>5.000000e+00</td>\n",
       "      <td>0.000000</td>\n",
       "      <td>0.000000</td>\n",
       "      <td>0.000000</td>\n",
       "      <td>0.000000</td>\n",
       "      <td>0.000000</td>\n",
       "    </tr>\n",
       "    <tr>\n",
       "      <th>25%</th>\n",
       "      <td>90.000000</td>\n",
       "      <td>38.000000</td>\n",
       "      <td>12.000000</td>\n",
       "      <td>44.000000</td>\n",
       "      <td>7.410000e+02</td>\n",
       "      <td>3.000000</td>\n",
       "      <td>6.000000</td>\n",
       "      <td>3.000000</td>\n",
       "      <td>0.000000</td>\n",
       "      <td>0.000000</td>\n",
       "    </tr>\n",
       "    <tr>\n",
       "      <th>50%</th>\n",
       "      <td>99.000000</td>\n",
       "      <td>66.000000</td>\n",
       "      <td>29.000000</td>\n",
       "      <td>62.000000</td>\n",
       "      <td>4.423000e+03</td>\n",
       "      <td>8.000000</td>\n",
       "      <td>17.000000</td>\n",
       "      <td>8.000000</td>\n",
       "      <td>1.000000</td>\n",
       "      <td>1.000000</td>\n",
       "    </tr>\n",
       "    <tr>\n",
       "      <th>75%</th>\n",
       "      <td>111.000000</td>\n",
       "      <td>86.000000</td>\n",
       "      <td>76.000000</td>\n",
       "      <td>77.000000</td>\n",
       "      <td>2.606700e+04</td>\n",
       "      <td>23.000000</td>\n",
       "      <td>44.000000</td>\n",
       "      <td>24.000000</td>\n",
       "      <td>1.000000</td>\n",
       "      <td>1.000000</td>\n",
       "    </tr>\n",
       "    <tr>\n",
       "      <th>max</th>\n",
       "      <td>266.000000</td>\n",
       "      <td>100.000000</td>\n",
       "      <td>535.000000</td>\n",
       "      <td>100.000000</td>\n",
       "      <td>3.579764e+07</td>\n",
       "      <td>69.000000</td>\n",
       "      <td>497.000000</td>\n",
       "      <td>303.000000</td>\n",
       "      <td>1.000000</td>\n",
       "      <td>2.000000</td>\n",
       "    </tr>\n",
       "  </tbody>\n",
       "</table>\n",
       "</div>"
      ],
      "text/plain": [
       "            runtime  tomatometer_rating  tomatometer_count  audience_rating  \\\n",
       "count  17017.000000        17017.000000       17017.000000     17017.000000   \n",
       "mean     102.296233           60.519539          57.097197        60.324499   \n",
       "std       18.653649           28.436397          66.814580        20.480600   \n",
       "min        5.000000            0.000000           5.000000         0.000000   \n",
       "25%       90.000000           38.000000          12.000000        44.000000   \n",
       "50%       99.000000           66.000000          29.000000        62.000000   \n",
       "75%      111.000000           86.000000          76.000000        77.000000   \n",
       "max      266.000000          100.000000         535.000000       100.000000   \n",
       "\n",
       "       audience_count  tomatometer_top_critics_count  \\\n",
       "count    1.701700e+04                   17017.000000   \n",
       "mean     1.471183e+05                      14.765999   \n",
       "std      1.783955e+06                      15.172256   \n",
       "min      5.000000e+00                       0.000000   \n",
       "25%      7.410000e+02                       3.000000   \n",
       "50%      4.423000e+03                       8.000000   \n",
       "75%      2.606700e+04                      23.000000   \n",
       "max      3.579764e+07                      69.000000   \n",
       "\n",
       "       tomatometer_fresh_critics_count  tomatometer_rotten_critics_count  \\\n",
       "count                     17017.000000                      17017.000000   \n",
       "mean                         36.237292                         20.871188   \n",
       "std                          51.362454                         29.978900   \n",
       "min                           0.000000                          0.000000   \n",
       "25%                           6.000000                          3.000000   \n",
       "50%                          17.000000                          8.000000   \n",
       "75%                          44.000000                         24.000000   \n",
       "max                         497.000000                        303.000000   \n",
       "\n",
       "       audience_status  tomatometer_status  \n",
       "count     17017.000000        17017.000000  \n",
       "mean          0.542928            0.752718  \n",
       "std           0.498168            0.747250  \n",
       "min           0.000000            0.000000  \n",
       "25%           0.000000            0.000000  \n",
       "50%           1.000000            1.000000  \n",
       "75%           1.000000            1.000000  \n",
       "max           1.000000            2.000000  "
      ]
     },
     "execution_count": 21,
     "metadata": {},
     "output_type": "execute_result"
    }
   ],
   "source": [
    "df_feature.describe()"
   ]
  },
  {
   "cell_type": "markdown",
   "id": "901e0a1f-bc37-4b62-984c-2247c6f410b7",
   "metadata": {},
   "source": [
    "As you can see above, now we have all of the features that we can use as predictors for our machine learning algorithms, as well as the dependent variable tomatometer_status in one DataFrame. Notice that all of the variables now have 17017 entries after we drop any rows with a missing value in any of the columns. Next, let's see the distribution of our dependent variabletomatometer_status."
   ]
  },
  {
   "cell_type": "code",
   "execution_count": 22,
   "id": "377bca02-45c4-4c79-90e8-0f38407ab095",
   "metadata": {},
   "outputs": [
    {
     "data": {
      "text/plain": [
       "17017"
      ]
     },
     "execution_count": 22,
     "metadata": {},
     "output_type": "execute_result"
    }
   ],
   "source": [
    "len(df_feature)"
   ]
  },
  {
   "cell_type": "code",
   "execution_count": 23,
   "id": "a736bdd2-b2e5-4e83-a2fd-9ed7bbe0fc44",
   "metadata": {},
   "outputs": [
    {
     "data": {
      "text/plain": [
       "[Text(0, 0, '7375'), Text(0, 0, '6475'), Text(0, 0, '3167')]"
      ]
     },
     "execution_count": 23,
     "metadata": {},
     "output_type": "execute_result"
    },
    {
     "data": {
      "image/png": "[encoded data removed]",
      "text/plain": [
       "<Figure size 1200x900 with 1 Axes>"
      ]
     },
     "metadata": {},
     "output_type": "display_data"
    }
   ],
   "source": [
    "ax = df_feature.tomatometer_status.value_counts().plot(kind='bar', figsize=(12,9))\n",
    "ax.bar_label(ax.containers[0])"
   ]
  },
  {
   "cell_type": "markdown",
   "id": "2850a97a-e49d-4383-ad42-9d24124c79d5",
   "metadata": {},
   "source": [
    "The final dataset shows 7375 movies labeled as Rotten, 6475 as Fresh, and 3167 as Certified-Fresh. This distribution reveals a class imbalance, since Rotten and Fresh are more frequent than Certified-Fresh.\n",
    "I am proceeding with an 80–20 split into training and test sets to begin building and evaluating models."
   ]
  },
  {
   "cell_type": "code",
   "execution_count": 28,
   "id": "4f130a06-14b1-454b-8aaa-d3d9cd26daeb",
   "metadata": {},
   "outputs": [
    {
     "name": "stdout",
     "output_type": "stream",
     "text": [
      "Size of training data is 13613 and the size of test data is 3404\n"
     ]
    }
   ],
   "source": [
    "X_train, X_test, y_train, y_test = train_test_split(df_feature.drop(['tomatometer_status'],axis=1),\n",
    "                                                   df_feature.tomatometer_status, \n",
    "                                                    test_size=0.2, \n",
    "                                                    random_state=42)\n",
    "print(f'Size of training data is {len(X_train)} and the size of test data is {len(X_test)}')"
   ]
  },
  {
   "cell_type": "markdown",
   "id": "f678e0c5-af36-416a-9ffc-f039409bfe57",
   "metadata": {},
   "source": [
    "That completes the preprocessing stage. The dataset is now ready for modeling. I am starting with a Decision Tree Classifier to build the first predictive model for the Tomatometer status."
   ]
  },
  {
   "cell_type": "markdown",
   "id": "2281cc77-7ef9-44d9-836d-2284abb12bf3",
   "metadata": {},
   "source": [
    "## Decision Tree Classifier"
   ]
  },
  {
   "cell_type": "markdown",
   "id": "dbf3cfb2-5aa2-4420-b4f7-164f9460dc9a",
   "metadata": {},
   "source": [
    "For the first run, I am limiting the Decision Tree to a maximum of 3 leaf nodes. This keeps the tree shallow and makes the decision process easier to interpret."
   ]
  },
  {
   "cell_type": "code",
   "execution_count": 44,
   "id": "e366d5a2-d3f3-4f4f-a6c3-6b83ee232d83",
   "metadata": {},
   "outputs": [
    {
     "name": "stdout",
     "output_type": "stream",
     "text": [
      "0.9462397179788484\n",
      "              precision    recall  f1-score   support\n",
      "\n",
      "         0.0       1.00      1.00      1.00      1488\n",
      "         1.0       0.97      0.88      0.93      1286\n",
      "         2.0       0.80      0.95      0.87       630\n",
      "\n",
      "    accuracy                           0.95      3404\n",
      "   macro avg       0.92      0.94      0.93      3404\n",
      "weighted avg       0.95      0.95      0.95      3404\n",
      "\n"
     ]
    },
    {
     "data": {
      "image/png": "[encoded data removed]",
      "text/plain": [
       "<Figure size 1200x900 with 2 Axes>"
      ]
     },
     "metadata": {},
     "output_type": "display_data"
    }
   ],
   "source": [
    "# Instantiate Decision Tree Classifier with max leaf nodes = 3\n",
    "tree_3_leaf = DecisionTreeClassifier(max_leaf_nodes=3, random_state=2)\n",
    "\n",
    "# Train the classifier on the training data\n",
    "tree_3_leaf.fit(X_train, y_train)\n",
    "\n",
    "# Predict the test data with trained tree classifier\n",
    "y_predict = tree_3_leaf.predict(X_test)\n",
    "\n",
    "# Print accuracy and classification report on test data\n",
    "print(accuracy_score(y_test, y_predict))\n",
    "print(classification_report(y_test, y_predict))\n",
    "\n",
    "# Plot confusion matrix on test data\n",
    "fig, ax = plt.subplots(figsize=(12, 9))\n",
    "ConfusionMatrixDisplay.from_estimator(\n",
    "    tree_3_leaf, X_test, y_test, cmap = 'viridis', ax=ax\n",
    ")\n",
    "plt.show()"
   ]
  },
  {
   "cell_type": "markdown",
   "id": "b927a709-4008-4ba1-a537-28dcf284475b",
   "metadata": {},
   "source": [
    "The Decision Tree Classifier shows reasonable accuracy and the confusion matrix reflects its performance, even with the constraint of just three leaf nodes. Keeping the tree this shallow makes the decision process easy to follow and explain. To visualize how the model is splitting the data, I am going to use the plot_tree function from sklearn.tree."
   ]
  },
  {
   "cell_type": "code",
   "execution_count": 32,
   "id": "4ae270b8-d94f-4b5e-b7d7-8481eeb8f0a7",
   "metadata": {},
   "outputs": [
    {
     "data": {
      "image/png": "[encoded data removed]",
      "text/plain": [
       "<Figure size 1200x900 with 1 Axes>"
      ]
     },
     "metadata": {},
     "output_type": "display_data"
    }
   ],
   "source": [
    "fig, ax = plt.subplots(figsize=(12,9))\n",
    "plot_tree(tree_3_leaf, ax=ax)\n",
    "plt.show()"
   ]
  },
  {
   "cell_type": "markdown",
   "id": "18acd78d-02ed-441d-9487-d4abd9b0dfa3",
   "metadata": {},
   "source": [
    "The tree visualization illustrates how the classifier makes its decisions. Looking back at df_feature, the feature at index 1 is tomatometer_rating, which the tree uses at the root split. If a movie’s rating is 59.5 or below, the classifier assigns it to class 0 (Rotten). Otherwise, the data point is passed to the next branch.\n",
    "\n",
    "At the second split, the tree uses the feature at index 6, tomatometer_fresh_critics_count. If the count is 35.5 or below, the movie is classified as class 1 (Fresh). If the count is higher, the movie is classified as class 2 (Certified-Fresh).\n",
    "\n",
    "This step-by-step branching shows how a shallow tree makes predictions based on just a couple of features."
   ]
  },
  {
   "cell_type": "markdown",
   "id": "b1a2f548-fd3f-48aa-9333-bc571d3ae00a",
   "metadata": {},
   "source": [
    "If a movie has a tomatometer_rating above 59.5, then the model needs to take a look at several features to find out whether a movie is 'Fresh' or 'Certified-Fresh'. If you take a look at the Rotten Tomatoes homepage, there are several considerations that need to be taken into account for a movie to be considered as 'Certified-Fresh' instead of just 'Fresh', such as:\n",
    "\n",
    "A consistent Tomatometer score of at least 75%\n",
    "At least 5 reviews from Top Critics\n",
    "Films in wide release must have a minimum of 80 reviews\n",
    "As you can see, several variables need to be taken into account to distinctively classify whether a movie is 'Fresh' or 'Certified-Fresh'. Since we constrained our Decision Tree model, then it uses the number of top critics' review as the sole variable to classify whether a movie is 'Fresh' or 'Certified-Fresh'"
   ]
  },
  {
   "cell_type": "markdown",
   "id": "b5da2944-c7c8-4422-911e-a684a1464230",
   "metadata": {},
   "source": [
    "Now that we know how a decision tree classifies each data point, let's try to optimize the accuracy score by removing the maximum leaf nodes constraint that we have set in the beginning."
   ]
  },
  {
   "cell_type": "code",
   "execution_count": 43,
   "id": "1e1a4227-5589-49b7-95b4-2a139d4e038c",
   "metadata": {},
   "outputs": [
    {
     "name": "stdout",
     "output_type": "stream",
     "text": [
      "0.9900117508813161\n",
      "              precision    recall  f1-score   support\n",
      "\n",
      "         0.0       1.00      1.00      1.00      1488\n",
      "         1.0       0.99      0.99      0.99      1286\n",
      "         2.0       0.97      0.97      0.97       630\n",
      "\n",
      "    accuracy                           0.99      3404\n",
      "   macro avg       0.99      0.99      0.99      3404\n",
      "weighted avg       0.99      0.99      0.99      3404\n",
      "\n"
     ]
    },
    {
     "data": {
      "text/plain": [
       "<sklearn.metrics._plot.confusion_matrix.ConfusionMatrixDisplay at 0x17e25e930>"
      ]
     },
     "execution_count": 43,
     "metadata": {},
     "output_type": "execute_result"
    },
    {
     "data": {
      "image/png": "[encoded data removed]",
      "text/plain": [
       "<Figure size 1200x900 with 2 Axes>"
      ]
     },
     "metadata": {},
     "output_type": "display_data"
    }
   ],
   "source": [
    "# Instantiate Decision Tree Classifier with default hyperparameter settings\n",
    "tree = DecisionTreeClassifier(random_state=2)\n",
    "\n",
    "# Train the classifier on the training data\n",
    "tree.fit(X_train, y_train)\n",
    "\n",
    "# Predict the test data with trained tree classifier\n",
    "y_predict = tree.predict(X_test)\n",
    "\n",
    "# Print accuracy and classification report on test data\n",
    "print(accuracy_score(y_test, y_predict))\n",
    "print(classification_report(y_test, y_predict))\n",
    "\n",
    "# Plot confusion matrix on test data\n",
    "fig, ax = plt.subplots(figsize = (12,9))\n",
    "ConfusionMatrixDisplay.from_estimator(tree, X_test, y_test, cmap='viridis', ax=ax)"
   ]
  },
  {
   "cell_type": "markdown",
   "id": "78cfc46c-375b-48dc-a387-690aeb9c8e2c",
   "metadata": {},
   "source": [
    "The classifier’s accuracy, precision, and recall have improved, reaching 99% compared to the earlier 94%. Allowing the model to determine the optimal number of leaf nodes clearly boosts performance. While this looks strong, there is still room to explore whether further optimization can push accuracy even higher."
   ]
  },
  {
   "cell_type": "markdown",
   "id": "3e9117e9-7fad-4aaa-a6e2-c6363a259189",
   "metadata": {},
   "source": [
    "## Random Forest Classifier"
   ]
  },
  {
   "cell_type": "markdown",
   "id": "3a477bac-429b-43de-b43a-e06d06be36dc",
   "metadata": {},
   "source": [
    "Implementing Random Forest with Scikit-learn is straightforward. Similar to Decision Trees, the algorithm offers hyperparameters to tune, such as the number of trees, the maximum depth, and the number of leaf nodes. For the first run, the model is built using the default settings provided by Scikit-learn."
   ]
  },
  {
   "cell_type": "code",
   "execution_count": 42,
   "id": "4cbc69ae-ec45-4c18-9797-7cbe3988d83f",
   "metadata": {},
   "outputs": [
    {
     "name": "stdout",
     "output_type": "stream",
     "text": [
      "0.9911868390129259\n",
      "              precision    recall  f1-score   support\n",
      "\n",
      "         0.0       1.00      1.00      1.00      1488\n",
      "         1.0       0.99      0.99      0.99      1286\n",
      "         2.0       0.98      0.97      0.98       630\n",
      "\n",
      "    accuracy                           0.99      3404\n",
      "   macro avg       0.99      0.99      0.99      3404\n",
      "weighted avg       0.99      0.99      0.99      3404\n",
      "\n"
     ]
    },
    {
     "data": {
      "text/plain": [
       "<sklearn.metrics._plot.confusion_matrix.ConfusionMatrixDisplay at 0x17e6a9820>"
      ]
     },
     "execution_count": 42,
     "metadata": {},
     "output_type": "execute_result"
    },
    {
     "data": {
      "image/png": "[encoded data removed]",
      "text/plain": [
       "<Figure size 1200x900 with 2 Axes>"
      ]
     },
     "metadata": {},
     "output_type": "display_data"
    }
   ],
   "source": [
    "# Instantiate Random Forest Classifier\n",
    "rf = RandomForestClassifier(random_state=2)\n",
    "\n",
    "# Train Random Forest Classifier on training data\n",
    "rf.fit(X_train, y_train)\n",
    "\n",
    "# Predict test data with trained model\n",
    "y_predict = rf.predict(X_test)\n",
    "\n",
    "# Print accuracy score and classification report\n",
    "print(accuracy_score(y_test, y_predict))\n",
    "print(classification_report(y_test, y_predict))\n",
    "\n",
    "# Plot Confusion Matrix\n",
    "fig, ax = plt.subplots(figsize=(12,9))\n",
    "ConfusionMatrixDisplay.from_estimator(rf, X_test, y_test, cmap='viridis', ax=ax)"
   ]
  },
  {
   "cell_type": "markdown",
   "id": "6186341b-b0f1-47b0-964b-f8ad143133b8",
   "metadata": {},
   "source": [
    "The accuracy and confusion matrix show that the Random Forest performs slightly better than the single Decision Tree, highlighting the strength of ensemble methods over individual classifiers. An added advantage of tree-based models is the ability to measure feature importance, which reveals which variables contribute most to predictions and which have less influence."
   ]
  },
  {
   "cell_type": "markdown",
   "id": "3657d8fa-e841-421e-a871-8d175d6b518f",
   "metadata": {},
   "source": [
    "In Scikit-learn, the relative importance of each feature can be retrieved using the feature_importances_ attribute. This provides a score for every feature, showing how much it contributes to the model’s predictions."
   ]
  },
  {
   "cell_type": "code",
   "execution_count": 45,
   "id": "26032a0e-6ca4-4b18-852c-e4159f1681da",
   "metadata": {},
   "outputs": [
    {
     "name": "stdout",
     "output_type": "stream",
     "text": [
      "runtime = 0.006116739944983344\n",
      "tomatometer_rating = 0.47608504652994854\n",
      "tomatometer_count = 0.09880146707250363\n",
      "audience_rating = 0.05404262467299177\n",
      "audience_count = 0.016251677241949883\n",
      "tomatometer_top_critics_count = 0.03608963155901569\n",
      "tomatometer_fresh_critics_count = 0.14150645695305125\n",
      "tomatometer_rotten_critics_count = 0.13081343489058472\n",
      "G = 0.00029848189185319515\n",
      "NC17 = 1.709061066955017e-05\n",
      "NR = 0.008711786826541734\n",
      "PG = 0.0005668613959766321\n",
      "PG-13 = 0.002531466583040525\n",
      "R = 0.002232419076842232\n",
      "audience_status = 0.02593481475004731\n"
     ]
    },
    {
     "data": {
      "image/png": "[encoded data removed]",
      "text/plain": [
       "<Figure size 1200x900 with 1 Axes>"
      ]
     },
     "metadata": {},
     "output_type": "display_data"
    }
   ],
   "source": [
    "# Get the feature importance\n",
    "feature_importance = rf.feature_importances_\n",
    "\n",
    "# Print feature importance\n",
    "for i, feature in enumerate(X_train.columns):\n",
    "    print(f'{feature} = {feature_importance[i]}')\n",
    "\n",
    "# Visualize feature from the most important to the least important\n",
    "indices = np.argsort(feature_importance)\n",
    "\n",
    "plt.figure(figsize=(12,9))\n",
    "plt.title('Feature Importances')\n",
    "plt.barh(range(len(indices)), feature_importance[indices], color='b', align='center')\n",
    "plt.yticks(range(len(indices)), [X_train.columns[i] for i in indices])\n",
    "plt.xlabel('Relative Importance')\n",
    "plt.show()"
   ]
  },
  {
   "cell_type": "markdown",
   "id": "149f1d7d-9d13-464c-b2dd-f1a8e51210be",
   "metadata": {},
   "source": [
    "The results show that features like content_rating categories (NR, PG-13, R, etc.) and runtime have little influence on the model when predicting unseen data. The next step is exploring whether removing or adjusting these features can improve the performance of the Random Forest classifier."
   ]
  },
  {
   "cell_type": "markdown",
   "id": "4806a675-71f4-4904-99f1-5fc413380e28",
   "metadata": {},
   "source": [
    "## Random Forest Classifier with Feature Selection"
   ]
  },
  {
   "cell_type": "markdown",
   "id": "b279fe40-bb19-47c7-b238-2d94d54916c1",
   "metadata": {},
   "source": [
    "Since some features were shown to have low importance in the Random Forest model, the next step is removing them from the dataset. This includes NR, runtime, PG-13, R, PG, G, and NC17, which are unlikely to contribute meaningfully to predictions."
   ]
  },
  {
   "cell_type": "code",
   "execution_count": 50,
   "id": "39490b28-f17c-4e68-909d-bcf242a58a08",
   "metadata": {},
   "outputs": [
    {
     "name": "stdout",
     "output_type": "stream",
     "text": [
      "Size of training data is 13613 and the size of test data is 3404\n"
     ]
    }
   ],
   "source": [
    "X_train, X_test, y_train, y_test = train_test_split(df_feature.drop(['tomatometer_status','NR','runtime','PG-13','R','PG','G','NC17'], axis=1),\n",
    "                                                    df_feature.tomatometer_status, test_size=0.2, random_state=42)\n",
    "print(f'Size of training data is {len(X_train)} and the size of test data is {len(X_test)}')"
   ]
  },
  {
   "cell_type": "markdown",
   "id": "5cfd1036-01c6-4a5c-9cf3-a6b3f36b99fa",
   "metadata": {},
   "source": [
    "With a refined set of features, the Random Forest classifier can be retrained. This demonstrates the idea of feature selection, where adding or removing variables helps test whether performance improves. The goal here is to see if the model achieves better results after dropping less useful features."
   ]
  },
  {
   "cell_type": "code",
   "execution_count": 52,
   "id": "7e714d80-f15b-4836-b327-aadd2b558426",
   "metadata": {},
   "outputs": [
    {
     "name": "stdout",
     "output_type": "stream",
     "text": [
      "0.9917743830787309\n",
      "              precision    recall  f1-score   support\n",
      "\n",
      "         0.0       1.00      1.00      1.00      1488\n",
      "         1.0       0.99      0.99      0.99      1286\n",
      "         2.0       0.98      0.97      0.98       630\n",
      "\n",
      "    accuracy                           0.99      3404\n",
      "   macro avg       0.99      0.99      0.99      3404\n",
      "weighted avg       0.99      0.99      0.99      3404\n",
      "\n"
     ]
    },
    {
     "data": {
      "text/plain": [
       "<sklearn.metrics._plot.confusion_matrix.ConfusionMatrixDisplay at 0x17480c050>"
      ]
     },
     "execution_count": 52,
     "metadata": {},
     "output_type": "execute_result"
    },
    {
     "data": {
      "image/png": "[encoded data removed]",
      "text/plain": [
       "<Figure size 1200x900 with 2 Axes>"
      ]
     },
     "metadata": {},
     "output_type": "display_data"
    }
   ],
   "source": [
    "# Initialize Random Forest Class\n",
    "rf = RandomForestClassifier(random_state=2)\n",
    "\n",
    "# Train Random Forest on the training data after feature selection\n",
    "rf.fit(X_train, y_train)\n",
    "\n",
    "# Predict the trained model on the test data after feature selection\n",
    "y_predict = rf.predict(X_test)\n",
    "\n",
    "# Print the Accuracy Score and the Classification Report\n",
    "print(accuracy_score(y_test, y_predict))\n",
    "print(classification_report(y_test, y_predict))\n",
    "\n",
    "# Plot the Confusion Matrix\n",
    "fig, ax = plt.subplots(figsize = (12,9))\n",
    "ConfusionMatrixDisplay.from_estimator(rf, X_test, y_test, cmap='viridis', ax=ax)"
   ]
  },
  {
   "cell_type": "markdown",
   "id": "35f7e47a-143b-447f-87e0-aa3dc9c03480",
   "metadata": {},
   "source": [
    "After feature selection, the model’s performance improved, reaching 99.1% accuracy. Both False Positive and False Negative rates decreased slightly compared to the earlier version. This highlights that more features do not always lead to better models, as irrelevant variables can introduce noise and reduce prediction reliability."
   ]
  },
  {
   "cell_type": "markdown",
   "id": "36938e25-4a77-40b0-82df-8e14cfe8e51c",
   "metadata": {},
   "source": [
    "## Weighted Random Forest Classifier with Feature Selection"
   ]
  },
  {
   "cell_type": "markdown",
   "id": "71610d4c-f919-42fc-9adb-1d7f469019b7",
   "metadata": {},
   "source": [
    "As noted in the preprocessing stage, the target variable is not evenly distributed. The three classes are Rotten (0), Fresh (1), and Certified-Fresh (2), and their counts show an imbalance that may affect how the model learns and predicts."
   ]
  },
  {
   "cell_type": "code",
   "execution_count": 54,
   "id": "944845ef-9f5f-4372-8c0c-605b82bfd635",
   "metadata": {},
   "outputs": [
    {
     "data": {
      "text/plain": [
       "[Text(0, 0, '7375'), Text(0, 0, '6475'), Text(0, 0, '3167')]"
      ]
     },
     "execution_count": 54,
     "metadata": {},
     "output_type": "execute_result"
    },
    {
     "data": {
      "image/png": "[encoded data removed]",
      "text/plain": [
       "<Figure size 1200x900 with 1 Axes>"
      ]
     },
     "metadata": {},
     "output_type": "display_data"
    }
   ],
   "source": [
    "ax = df_feature.tomatometer_status.value_counts().plot(kind='bar', figsize=(12,9))\n",
    "ax.bar_label(ax.containers[0])"
   ]
  },
  {
   "cell_type": "markdown",
   "id": "258aa470-d8e4-4126-a952-e89ecc89e81e",
   "metadata": {},
   "source": [
    "Class imbalance is clear here: Certified-Fresh has far fewer samples than Rotten. To address this, there are two common routes: oversampling the minority class (for example, SMOTE) or giving the model class weights during training. In this notebook, I am using class weights so the minority class gets a higher penalty when misclassified. I am going to compute weights with sklearn.utils.class_weight.compute_class_weight and pass the resulting dictionary to the classifier, so the model learns to pay more attention to underrepresented labels."
   ]
  },
  {
   "cell_type": "code",
   "execution_count": 55,
   "id": "fc94fdba-e321-409c-ad74-f037b8b76c69",
   "metadata": {},
   "outputs": [
    {
     "data": {
      "text/plain": [
       "{0: 0.7691299435028248, 1: 0.8760360360360361, 2: 1.7910746237238186}"
      ]
     },
     "execution_count": 55,
     "metadata": {},
     "output_type": "execute_result"
    }
   ],
   "source": [
    "class_weight = compute_class_weight(\n",
    "    class_weight = 'balanced', classes = np.unique(df_feature.tomatometer_status),\n",
    "    y = df_feature.tomatometer_status.values)\n",
    "class_weight_dict = dict(zip(range(len(class_weight.tolist())), class_weight.tolist()))\n",
    "class_weight_dict"
   ]
  },
  {
   "cell_type": "markdown",
   "id": "23773564-6b4d-4674-9089-e264b9e2175e",
   "metadata": {},
   "source": [
    "The computed weights show that the majority class Rotten (0) is assigned the smallest weight, while the minority class Certified-Fresh (2) receives the largest weight. I now initialize the Random Forest classifier with this class weight information, retrain it on the training data, generate predictions on the test set, and then evaluate the model using the accuracy score and confusion matrix visualization."
   ]
  },
  {
   "cell_type": "code",
   "execution_count": 59,
   "id": "a42eea83-ae50-45dc-a3fe-4c5dfa23b20a",
   "metadata": {},
   "outputs": [
    {
     "name": "stdout",
     "output_type": "stream",
     "text": [
      "0.9929494712103408\n",
      "              precision    recall  f1-score   support\n",
      "\n",
      "         0.0       1.00      1.00      1.00      1488\n",
      "         1.0       0.99      0.99      0.99      1286\n",
      "         2.0       0.98      0.98      0.98       630\n",
      "\n",
      "    accuracy                           0.99      3404\n",
      "   macro avg       0.99      0.99      0.99      3404\n",
      "weighted avg       0.99      0.99      0.99      3404\n",
      "\n"
     ]
    },
    {
     "data": {
      "text/plain": [
       "<sklearn.metrics._plot.confusion_matrix.ConfusionMatrixDisplay at 0x3034bfdd0>"
      ]
     },
     "execution_count": 59,
     "metadata": {},
     "output_type": "execute_result"
    },
    {
     "data": {
      "image/png": "[encoded data removed]",
      "text/plain": [
       "<Figure size 1200x900 with 2 Axes>"
      ]
     },
     "metadata": {},
     "output_type": "display_data"
    }
   ],
   "source": [
    "# Initialize Random Forest model with weight information\n",
    "rf_weighted = RandomForestClassifier(random_state=2, class_weight=class_weight_dict)\n",
    "\n",
    "# Train the model on the training data\n",
    "rf_weighted.fit(X_train, y_train)\n",
    "\n",
    "# Predict the test data with the trained model\n",
    "y_predict = rf_weighted.predict(X_test)\n",
    "\n",
    "# Print the Accuracy Score and Classification Report\n",
    "print(accuracy_score(y_test, y_predict))\n",
    "print(classification_report(y_test, y_predict))\n",
    "\n",
    "# Plot Confusion Matrix\n",
    "fig, ax = plt.subplots(figsize=(12,9))\n",
    "ConfusionMatrixDisplay.from_estimator(rf_weighted, X_test, y_test, cmap='viridis', ax=ax)"
   ]
  },
  {
   "cell_type": "markdown",
   "id": "7c19b8d1-63eb-45be-85a5-ed185e6056ca",
   "metadata": {},
   "source": [
    "After applying class weights, the model’s performance improved, with accuracy rising to 99.2% and an increase in correct predictions for the Fresh class. Using class weights is an effective way to handle imbalance since it forces the model to give greater importance to underrepresented labels during training."
   ]
  },
  {
   "cell_type": "markdown",
   "id": "cdad144a-bb43-477e-b70e-89a0ff6f6efc",
   "metadata": {},
   "source": [
    "## Second Approach: Predicting Movie Status Using Review Sentiment"
   ]
  },
  {
   "cell_type": "markdown",
   "id": "d61c5051-cffa-422d-b8fa-275473589043",
   "metadata": {},
   "source": [
    "I’m switching to a sentiment-based approach where the model predicts movie status from the tone of critic reviews. Negative sentiment maps to Rotten, positive sentiment maps to Fresh. Since this uses text instead of tabular features, I will load a separate reviews dataset, convert the text into numeric vectors, and then train a Random Forest for classification. \n",
    "\n",
    "First step: inspect the review data."
   ]
  },
  {
   "cell_type": "code",
   "execution_count": 60,
   "id": "2d766cb5-5728-4029-9d49-bc5b4a7bd98d",
   "metadata": {},
   "outputs": [
    {
     "data": {
      "text/html": [
       "<div>\n",
       "<style scoped>\n",
       "    .dataframe tbody tr th:only-of-type {\n",
       "        vertical-align: middle;\n",
       "    }\n",
       "\n",
       "    .dataframe tbody tr th {\n",
       "        vertical-align: top;\n",
       "    }\n",
       "\n",
       "    .dataframe thead th {\n",
       "        text-align: right;\n",
       "    }\n",
       "</style>\n",
       "<table border=\"1\" class=\"dataframe\">\n",
       "  <thead>\n",
       "    <tr style=\"text-align: right;\">\n",
       "      <th></th>\n",
       "      <th>rotten_tomatoes_link</th>\n",
       "      <th>critic_name</th>\n",
       "      <th>top_critic</th>\n",
       "      <th>publisher_name</th>\n",
       "      <th>review_type</th>\n",
       "      <th>review_score</th>\n",
       "      <th>review_date</th>\n",
       "      <th>review_content</th>\n",
       "    </tr>\n",
       "  </thead>\n",
       "  <tbody>\n",
       "    <tr>\n",
       "      <th>0</th>\n",
       "      <td>m/0814255</td>\n",
       "      <td>Andrew L. Urban</td>\n",
       "      <td>False</td>\n",
       "      <td>Urban Cinefile</td>\n",
       "      <td>Fresh</td>\n",
       "      <td>NaN</td>\n",
       "      <td>2010-02-06</td>\n",
       "      <td>A fantasy adventure that fuses Greek mythology...</td>\n",
       "    </tr>\n",
       "    <tr>\n",
       "      <th>1</th>\n",
       "      <td>m/0814255</td>\n",
       "      <td>Louise Keller</td>\n",
       "      <td>False</td>\n",
       "      <td>Urban Cinefile</td>\n",
       "      <td>Fresh</td>\n",
       "      <td>NaN</td>\n",
       "      <td>2010-02-06</td>\n",
       "      <td>Uma Thurman as Medusa, the gorgon with a coiff...</td>\n",
       "    </tr>\n",
       "    <tr>\n",
       "      <th>2</th>\n",
       "      <td>m/0814255</td>\n",
       "      <td>NaN</td>\n",
       "      <td>False</td>\n",
       "      <td>FILMINK (Australia)</td>\n",
       "      <td>Fresh</td>\n",
       "      <td>NaN</td>\n",
       "      <td>2010-02-09</td>\n",
       "      <td>With a top-notch cast and dazzling special eff...</td>\n",
       "    </tr>\n",
       "    <tr>\n",
       "      <th>3</th>\n",
       "      <td>m/0814255</td>\n",
       "      <td>Ben McEachen</td>\n",
       "      <td>False</td>\n",
       "      <td>Sunday Mail (Australia)</td>\n",
       "      <td>Fresh</td>\n",
       "      <td>3.5/5</td>\n",
       "      <td>2010-02-09</td>\n",
       "      <td>Whether audiences will get behind The Lightnin...</td>\n",
       "    </tr>\n",
       "    <tr>\n",
       "      <th>4</th>\n",
       "      <td>m/0814255</td>\n",
       "      <td>Ethan Alter</td>\n",
       "      <td>True</td>\n",
       "      <td>Hollywood Reporter</td>\n",
       "      <td>Rotten</td>\n",
       "      <td>NaN</td>\n",
       "      <td>2010-02-10</td>\n",
       "      <td>What's really lacking in The Lightning Thief i...</td>\n",
       "    </tr>\n",
       "  </tbody>\n",
       "</table>\n",
       "</div>"
      ],
      "text/plain": [
       "  rotten_tomatoes_link      critic_name  top_critic           publisher_name  \\\n",
       "0            m/0814255  Andrew L. Urban       False           Urban Cinefile   \n",
       "1            m/0814255    Louise Keller       False           Urban Cinefile   \n",
       "2            m/0814255              NaN       False      FILMINK (Australia)   \n",
       "3            m/0814255     Ben McEachen       False  Sunday Mail (Australia)   \n",
       "4            m/0814255      Ethan Alter        True       Hollywood Reporter   \n",
       "\n",
       "  review_type review_score review_date  \\\n",
       "0       Fresh          NaN  2010-02-06   \n",
       "1       Fresh          NaN  2010-02-06   \n",
       "2       Fresh          NaN  2010-02-09   \n",
       "3       Fresh        3.5/5  2010-02-09   \n",
       "4      Rotten          NaN  2010-02-10   \n",
       "\n",
       "                                      review_content  \n",
       "0  A fantasy adventure that fuses Greek mythology...  \n",
       "1  Uma Thurman as Medusa, the gorgon with a coiff...  \n",
       "2  With a top-notch cast and dazzling special eff...  \n",
       "3  Whether audiences will get behind The Lightnin...  \n",
       "4  What's really lacking in The Lightning Thief i...  "
      ]
     },
     "execution_count": 60,
     "metadata": {},
     "output_type": "execute_result"
    }
   ],
   "source": [
    "df_critics = pd.read_csv('/Users/madhulika/Downloads/rotten_tomatoes_critic_reviews_50k.csv')\n",
    "df_critics.head()"
   ]
  },
  {
   "cell_type": "markdown",
   "id": "760860d0-c65f-4b1d-9719-14f31f824882",
   "metadata": {},
   "source": [
    "From the data above, we have the review_content variable, which is the input data that we will supply to our Decision Tree model, and review_type variable, which is the variable that our model will predict."
   ]
  },
  {
   "cell_type": "markdown",
   "id": "80c57d80-0bae-4797-ab7b-d8f364dbe27e",
   "metadata": {},
   "source": [
    "The reviews dataset does not directly include the movie title or the Tomatometer status. What it does contain is the rotten_tomatoes_link, which also appears in the movies dataset. Since the movies dataset provides both movie_title and tomatometer_status, I can merge the two DataFrames on the rotten_tomatoes_link column to bring in the missing information for each review."
   ]
  },
  {
   "cell_type": "code",
   "execution_count": 62,
   "id": "4b159f29-5539-4e5c-9f8d-4bdcbaaa2e73",
   "metadata": {},
   "outputs": [],
   "source": [
    "df_merged = df_critics.merge(df_movie, how='inner', on=['rotten_tomatoes_link'])\n",
    "df_merged = df_merged[['rotten_tomatoes_link','movie_title','review_content','review_type','tomatometer_status']]"
   ]
  },
  {
   "cell_type": "code",
   "execution_count": 63,
   "id": "959bb872-d084-4a89-8f99-8d9b52f4c115",
   "metadata": {},
   "outputs": [
    {
     "data": {
      "text/html": [
       "<div>\n",
       "<style scoped>\n",
       "    .dataframe tbody tr th:only-of-type {\n",
       "        vertical-align: middle;\n",
       "    }\n",
       "\n",
       "    .dataframe tbody tr th {\n",
       "        vertical-align: top;\n",
       "    }\n",
       "\n",
       "    .dataframe thead th {\n",
       "        text-align: right;\n",
       "    }\n",
       "</style>\n",
       "<table border=\"1\" class=\"dataframe\">\n",
       "  <thead>\n",
       "    <tr style=\"text-align: right;\">\n",
       "      <th></th>\n",
       "      <th>rotten_tomatoes_link</th>\n",
       "      <th>movie_title</th>\n",
       "      <th>review_content</th>\n",
       "      <th>review_type</th>\n",
       "      <th>tomatometer_status</th>\n",
       "    </tr>\n",
       "  </thead>\n",
       "  <tbody>\n",
       "    <tr>\n",
       "      <th>0</th>\n",
       "      <td>m/0814255</td>\n",
       "      <td>Percy Jackson &amp; the Olympians: The Lightning T...</td>\n",
       "      <td>A fantasy adventure that fuses Greek mythology...</td>\n",
       "      <td>Fresh</td>\n",
       "      <td>Rotten</td>\n",
       "    </tr>\n",
       "    <tr>\n",
       "      <th>1</th>\n",
       "      <td>m/0814255</td>\n",
       "      <td>Percy Jackson &amp; the Olympians: The Lightning T...</td>\n",
       "      <td>Uma Thurman as Medusa, the gorgon with a coiff...</td>\n",
       "      <td>Fresh</td>\n",
       "      <td>Rotten</td>\n",
       "    </tr>\n",
       "    <tr>\n",
       "      <th>2</th>\n",
       "      <td>m/0814255</td>\n",
       "      <td>Percy Jackson &amp; the Olympians: The Lightning T...</td>\n",
       "      <td>With a top-notch cast and dazzling special eff...</td>\n",
       "      <td>Fresh</td>\n",
       "      <td>Rotten</td>\n",
       "    </tr>\n",
       "    <tr>\n",
       "      <th>3</th>\n",
       "      <td>m/0814255</td>\n",
       "      <td>Percy Jackson &amp; the Olympians: The Lightning T...</td>\n",
       "      <td>Whether audiences will get behind The Lightnin...</td>\n",
       "      <td>Fresh</td>\n",
       "      <td>Rotten</td>\n",
       "    </tr>\n",
       "    <tr>\n",
       "      <th>4</th>\n",
       "      <td>m/0814255</td>\n",
       "      <td>Percy Jackson &amp; the Olympians: The Lightning T...</td>\n",
       "      <td>What's really lacking in The Lightning Thief i...</td>\n",
       "      <td>Rotten</td>\n",
       "      <td>Rotten</td>\n",
       "    </tr>\n",
       "  </tbody>\n",
       "</table>\n",
       "</div>"
      ],
      "text/plain": [
       "  rotten_tomatoes_link                                        movie_title  \\\n",
       "0            m/0814255  Percy Jackson & the Olympians: The Lightning T...   \n",
       "1            m/0814255  Percy Jackson & the Olympians: The Lightning T...   \n",
       "2            m/0814255  Percy Jackson & the Olympians: The Lightning T...   \n",
       "3            m/0814255  Percy Jackson & the Olympians: The Lightning T...   \n",
       "4            m/0814255  Percy Jackson & the Olympians: The Lightning T...   \n",
       "\n",
       "                                      review_content review_type  \\\n",
       "0  A fantasy adventure that fuses Greek mythology...       Fresh   \n",
       "1  Uma Thurman as Medusa, the gorgon with a coiff...       Fresh   \n",
       "2  With a top-notch cast and dazzling special eff...       Fresh   \n",
       "3  Whether audiences will get behind The Lightnin...       Fresh   \n",
       "4  What's really lacking in The Lightning Thief i...      Rotten   \n",
       "\n",
       "  tomatometer_status  \n",
       "0             Rotten  \n",
       "1             Rotten  \n",
       "2             Rotten  \n",
       "3             Rotten  \n",
       "4             Rotten  "
      ]
     },
     "execution_count": 63,
     "metadata": {},
     "output_type": "execute_result"
    }
   ],
   "source": [
    "df_merged.head()"
   ]
  },
  {
   "cell_type": "markdown",
   "id": "b0992be3-3e84-4fbe-8126-f1fdbdd3a67c",
   "metadata": {},
   "source": [
    "For this approach, the only input feature used is review_content, with review_type serving as the label. Since empty reviews cannot be used, missing values in review_content are removed. After filtering, I keep just the review_content and review_type columns and then plot the distribution of the labels to see how many reviews are classified as Fresh versus Rotten."
   ]
  },
  {
   "cell_type": "code",
   "execution_count": 64,
   "id": "3a92b391-b645-4206-bf89-3f603ef1c741",
   "metadata": {},
   "outputs": [],
   "source": [
    "df_merged = df_merged.dropna(subset=['review_content'])"
   ]
  },
  {
   "cell_type": "code",
   "execution_count": 65,
   "id": "f9fe78e3-f2e5-4f11-a895-ca365ab49753",
   "metadata": {},
   "outputs": [
    {
     "data": {
      "text/plain": [
       "[Text(0, 0, '25276'), Text(0, 0, '15919')]"
      ]
     },
     "execution_count": 65,
     "metadata": {},
     "output_type": "execute_result"
    },
    {
     "data": {
      "image/png": "[encoded data removed]",
      "text/plain": [
       "<Figure size 1200x900 with 1 Axes>"
      ]
     },
     "metadata": {},
     "output_type": "display_data"
    }
   ],
   "source": [
    "# Plot distribution of the review\n",
    "ax = df_merged.review_type.value_counts().plot(kind='bar', figsize=(12,9))\n",
    "ax.bar_label(ax.containers[0])"
   ]
  },
  {
   "cell_type": "markdown",
   "id": "901379c9-d584-4974-a63a-5dec7979ab1f",
   "metadata": {},
   "source": [
    "The label distribution is imbalanced, which suggests that adding class weights during training will be useful. The dataset itself has over 100k reviews, but to keep training efficient in this example, I will work with a subset of 5000 entries."
   ]
  },
  {
   "cell_type": "markdown",
   "id": "c7edd0b2-4fb9-491f-9e2f-172669338e39",
   "metadata": {},
   "source": [
    "The labels are converted from text values (Rotten, Fresh) to integers using ordinal encoding. This assigns 0 to Rotten and 1 to Fresh, making the target variable numeric and ready for training."
   ]
  },
  {
   "cell_type": "code",
   "execution_count": 66,
   "id": "0b08545f-147c-4ccb-b0a7-5ebe93b91672",
   "metadata": {},
   "outputs": [
    {
     "name": "stderr",
     "output_type": "stream",
     "text": [
      "/var/folders/61/br8wr2d92qq0jbw44qm3yc3h0000gn/T/ipykernel_4487/1367458876.py:5: FutureWarning: Downcasting behavior in `replace` is deprecated and will be removed in a future version. To retain the old behavior, explicitly call `result.infer_objects(copy=False)`. To opt-in to the future behavior, set `pd.set_option('future.no_silent_downcasting', True)`\n",
      "  review_type = pd.DataFrame(df_sub.review_type.replace(['Rotten','Fresh'],[0,1]))\n"
     ]
    },
    {
     "data": {
      "text/html": [
       "<div>\n",
       "<style scoped>\n",
       "    .dataframe tbody tr th:only-of-type {\n",
       "        vertical-align: middle;\n",
       "    }\n",
       "\n",
       "    .dataframe tbody tr th {\n",
       "        vertical-align: top;\n",
       "    }\n",
       "\n",
       "    .dataframe thead th {\n",
       "        text-align: right;\n",
       "    }\n",
       "</style>\n",
       "<table border=\"1\" class=\"dataframe\">\n",
       "  <thead>\n",
       "    <tr style=\"text-align: right;\">\n",
       "      <th></th>\n",
       "      <th>review_content</th>\n",
       "      <th>review_type</th>\n",
       "    </tr>\n",
       "  </thead>\n",
       "  <tbody>\n",
       "    <tr>\n",
       "      <th>0</th>\n",
       "      <td>A fantasy adventure that fuses Greek mythology...</td>\n",
       "      <td>1</td>\n",
       "    </tr>\n",
       "    <tr>\n",
       "      <th>1</th>\n",
       "      <td>Uma Thurman as Medusa, the gorgon with a coiff...</td>\n",
       "      <td>1</td>\n",
       "    </tr>\n",
       "    <tr>\n",
       "      <th>2</th>\n",
       "      <td>With a top-notch cast and dazzling special eff...</td>\n",
       "      <td>1</td>\n",
       "    </tr>\n",
       "    <tr>\n",
       "      <th>3</th>\n",
       "      <td>Whether audiences will get behind The Lightnin...</td>\n",
       "      <td>1</td>\n",
       "    </tr>\n",
       "    <tr>\n",
       "      <th>4</th>\n",
       "      <td>What's really lacking in The Lightning Thief i...</td>\n",
       "      <td>0</td>\n",
       "    </tr>\n",
       "  </tbody>\n",
       "</table>\n",
       "</div>"
      ],
      "text/plain": [
       "                                      review_content  review_type\n",
       "0  A fantasy adventure that fuses Greek mythology...            1\n",
       "1  Uma Thurman as Medusa, the gorgon with a coiff...            1\n",
       "2  With a top-notch cast and dazzling special eff...            1\n",
       "3  Whether audiences will get behind The Lightnin...            1\n",
       "4  What's really lacking in The Lightning Thief i...            0"
      ]
     },
     "execution_count": 66,
     "metadata": {},
     "output_type": "execute_result"
    }
   ],
   "source": [
    "# Picking only 5000 entries from the original dataset\n",
    "df_sub = df_merged[0:5000]\n",
    "\n",
    "# Encode the label\n",
    "review_type = pd.DataFrame(df_sub.review_type.replace(['Rotten','Fresh'],[0,1]))\n",
    "\n",
    "# Build final DataFrame\n",
    "df_feature_critics = pd.concat([df_sub[['review_content']], review_type], axis=1).dropna()\n",
    "df_feature_critics.head()"
   ]
  },
  {
   "cell_type": "markdown",
   "id": "c56d820b-02fb-4363-a5c0-3949a7846090",
   "metadata": {},
   "source": [
    "The dataset is then divided into training and test sets, with the training portion used to fit the model and the test portion reserved for evaluating its performance."
   ]
  },
  {
   "cell_type": "code",
   "execution_count": 67,
   "id": "7097c9f9-ce67-4013-a9b8-73c6fe00823e",
   "metadata": {},
   "outputs": [],
   "source": [
    "X_train, X_test, y_train, y_test = train_test_split(df_feature_critics['review_content'], df_feature_critics['review_type'], test_size=0.2, random_state=42)"
   ]
  },
  {
   "cell_type": "markdown",
   "id": "1e4764fa-d21d-452c-8d49-9094411a76f2",
   "metadata": {},
   "source": [
    "## Default Random Forest"
   ]
  },
  {
   "cell_type": "markdown",
   "id": "6d08598c-dada-4c9f-b84a-c4f16a6ae548",
   "metadata": {},
   "source": [
    "Reviews in the dataset are text, so they need to be transformed into a numerical form that a machine learning model can work with. This process is handled through tokenization, where words are broken down and represented as vectors. The approach used here is converting reviews into a matrix of token counts. For example, from the sentences “This movie is a good movie” and “The movie is bad”, a dictionary of unique words is built: [this, movie, is, a, good, the, bad]. Each review is then represented by the frequency of these words, resulting in a numeric vector such as [1, 2, 1, 1, 1, 0, 0]. These vectors become the input for training the Random Forest classifier. In practice, this process is implemented in scikit-learn with the CountVectorizer class."
   ]
  },
  {
   "cell_type": "code",
   "execution_count": 75,
   "id": "da9d959d-cc32-46c1-99eb-03b3c2b1c698",
   "metadata": {},
   "outputs": [
    {
     "name": "stdout",
     "output_type": "stream",
     "text": [
      "              precision    recall  f1-score   support\n",
      "\n",
      "           0       0.65      0.65      0.65       448\n",
      "           1       0.72      0.72      0.72       552\n",
      "\n",
      "    accuracy                           0.69      1000\n",
      "   macro avg       0.68      0.68      0.68      1000\n",
      "weighted avg       0.69      0.69      0.69      1000\n",
      "\n"
     ]
    },
    {
     "data": {
      "image/png": "[encoded data removed]",
      "text/plain": [
       "<Figure size 1200x900 with 2 Axes>"
      ]
     },
     "metadata": {},
     "output_type": "display_data"
    }
   ],
   "source": [
    "# Instantiate vectorizer class\n",
    "vectorizer = CountVectorizer(min_df=1)\n",
    "\n",
    "# Transform our text data into vector\n",
    "X_train_vec = vectorizer.fit_transform(X_train).toarray()\n",
    "\n",
    "# Initialize random forest and train it\n",
    "rf = RandomForestClassifier(random_state=2)\n",
    "rf.fit(X_train_vec, y_train)\n",
    "\n",
    "# Predict and output classification report\n",
    "y_predicted = rf.predict(vectorizer.transform(X_test).toarray())\n",
    "\n",
    "print(classification_report(y_test, y_predicted))\n",
    "\n",
    "fig, ax = plt.subplots(figsize=(12,9))\n",
    "ConfusionMatrixDisplay.from_estimator(rf, vectorizer.transform(X_test).toarray(), y_test, cmap='cividis', ax=ax)\n",
    "plt.show()"
   ]
  },
  {
   "cell_type": "markdown",
   "id": "db14b884-82b8-4252-abf2-39920c270d43",
   "metadata": {},
   "source": [
    "## Weighted Random Forest"
   ]
  },
  {
   "cell_type": "markdown",
   "id": "7fa07c4a-6991-4ef3-a861-a94bf6463870",
   "metadata": {},
   "source": [
    "The model’s performance is relatively weak, which is expected given it was trained on just 5000 samples instead of the full dataset of 100,000 reviews. Since the labels are imbalanced, the next step is to introduce class weights during training to see if this improves the results."
   ]
  },
  {
   "cell_type": "code",
   "execution_count": 76,
   "id": "8d903763-821a-4481-9b54-0891207e70ec",
   "metadata": {},
   "outputs": [
    {
     "data": {
      "text/plain": [
       "{0: 1.058425063505504, 1: 0.9476876421531463}"
      ]
     },
     "execution_count": 76,
     "metadata": {},
     "output_type": "execute_result"
    }
   ],
   "source": [
    "class_weight = compute_class_weight(class_weight='balanced', classes=np.unique(df_feature_critics.review_type), \n",
    "                                   y=df_feature_critics.review_type.values)\n",
    "class_weight_dict = dict(zip(range(len(class_weight.tolist())), class_weight.tolist()))\n",
    "class_weight_dict"
   ]
  },
  {
   "cell_type": "markdown",
   "id": "c7d286c9-6ea9-42a1-a131-33c4679537ed",
   "metadata": {},
   "source": [
    "The next step is fitting the Random Forest classifier on the vectorized review data while supplying class weight information. This adjustment helps the model handle the imbalance between Fresh and Rotten reviews and should improve prediction performance."
   ]
  },
  {
   "cell_type": "code",
   "execution_count": 80,
   "id": "e7d0fd94-9af0-482f-80c2-78a3702aba17",
   "metadata": {},
   "outputs": [
    {
     "name": "stdout",
     "output_type": "stream",
     "text": [
      "              precision    recall  f1-score   support\n",
      "\n",
      "           0       0.64      0.71      0.67       448\n",
      "           1       0.74      0.67      0.70       552\n",
      "\n",
      "    accuracy                           0.69      1000\n",
      "   macro avg       0.69      0.69      0.69      1000\n",
      "weighted avg       0.69      0.69      0.69      1000\n",
      "\n"
     ]
    },
    {
     "data": {
      "text/plain": [
       "<sklearn.metrics._plot.confusion_matrix.ConfusionMatrixDisplay at 0x308651d90>"
      ]
     },
     "execution_count": 80,
     "metadata": {},
     "output_type": "execute_result"
    },
    {
     "data": {
      "image/png": "[encoded data removed]",
      "text/plain": [
       "<Figure size 1200x900 with 2 Axes>"
      ]
     },
     "metadata": {},
     "output_type": "display_data"
    }
   ],
   "source": [
    "# Instantiate vectorizer class\n",
    "vectorizer = CountVectorizer(min_df=1)\n",
    "\n",
    "# Transform our text data into vector\n",
    "X_train_vec = vectorizer.fit_transform(X_train).toarray()\n",
    "\n",
    "# Initialize random forest and train it \n",
    "rf_weighted = RandomForestClassifier(random_state=2, class_weight=class_weight_dict)\n",
    "rf_weighted.fit(X_train_vec, y_train)\n",
    "\n",
    "# Predict and output classification report \n",
    "y_predicted = rf_weighted.predict(vectorizer.transform(X_test).toarray())\n",
    "\n",
    "print(classification_report(y_test, y_predicted))\n",
    "\n",
    "fig, ax = plt.subplots(figsize=(12,9))\n",
    "ConfusionMatrixDisplay.from_estimator(rf_weighted, vectorizer.transform(X_test).toarray(), y_test, cmap='viridis', ax=ax)\n"
   ]
  },
  {
   "cell_type": "markdown",
   "id": "cee94cbc-25b0-4eb2-a0ab-d0dc57642334",
   "metadata": {},
   "source": [
    "Overall accuracy improves slightly after adding class weights. Because class 0 (Rotten) carries a higher weight than class 1 (Fresh), the model now predicts Rotten reviews more accurately but performs worse on Fresh reviews. The weighting shifts attention toward the minority or emphasized class, which changes the error balance across labels."
   ]
  },
  {
   "cell_type": "markdown",
   "id": "10966ca1-2e4e-4783-b4bd-21462ae05ab5",
   "metadata": {},
   "source": [
    "## Movie Status Prediction"
   ]
  },
  {
   "cell_type": "markdown",
   "id": "2ef7dba5-7d3a-4b66-9698-56afb64d77b1",
   "metadata": {},
   "source": [
    "With the Random Forest model trained to classify individual reviews as Fresh or Rotten, the next step is extending this to predict the overall status of a movie. The process is straightforward:\n",
    "\n",
    "1. Collect all reviews for a given movie.\n",
    "2. Use the model to predict each review’s status.\n",
    "3. Apply Rotten Tomatoes’ rule: if at least 60% of reviews are Fresh, the movie is classified as Fresh; otherwise, it is Rotten.\n",
    "\n",
    "This means summing the number of reviews predicted as Fresh, dividing by the total reviews, and checking whether the ratio exceeds 60%."
   ]
  },
  {
   "cell_type": "markdown",
   "id": "a76844f8-87fd-4a9c-870a-c6a12945d520",
   "metadata": {},
   "source": [
    "The next step is defining a function that implements the rule-based aggregation. The function will take all reviews for a movie, predict each one using the trained Random Forest model, calculate the percentage of Fresh reviews, and then assign the movie a final status of Fresh or Rotten based on the 60% threshold."
   ]
  },
  {
   "cell_type": "code",
   "execution_count": 82,
   "id": "2268541a-47d3-4d2d-ab95-a1378d7e3af3",
   "metadata": {},
   "outputs": [],
   "source": [
    "def predict_movie_status(prediction):\n",
    "    \"\"\"Assign label (Fresh/Rotten) based on prediction\"\"\"\n",
    "    positive_percentage = (prediction==1).sum()/len(prediction)*100\n",
    "    prediction = 'Fresh' if positive_percentage >=60 else 'Rotten'\n",
    "    print(f'Positive review: {positive_percentage:.2f}%')\n",
    "    print(f'Movie status: {prediction}')"
   ]
  },
  {
   "cell_type": "markdown",
   "id": "92d221cc-5ee1-41dc-892e-8f7ceb26b849",
   "metadata": {},
   "source": [
    "In this example, the model is used to predict the status of three movies: Body of Lies, Angel Heart, and The Duchess. The process begins with Body of Lies, where all available reviews are collected, classified with the trained Random Forest model, and then aggregated into a final movie status."
   ]
  },
  {
   "cell_type": "markdown",
   "id": "ea1ab321-057f-4639-a553-f94ebb7dfb66",
   "metadata": {},
   "source": [
    "### Body of Lies Prediction"
   ]
  },
  {
   "cell_type": "markdown",
   "id": "876e9c94-85b0-4a45-81cc-389466db3f67",
   "metadata": {},
   "source": [
    "Using the trained Random Forest sentiment model, all reviews for Body of Lies are collected, transformed with the vectorizer, and individually classified as Fresh or Rotten. The percentage of reviews predicted as Fresh is then computed, and based on the Rotten Tomatoes rule (≥60% Fresh = Fresh, <60% Fresh = Rotten), the overall movie status is determined."
   ]
  },
  {
   "cell_type": "code",
   "execution_count": 85,
   "id": "b655d404-1924-43f5-9d2d-65b46706efe5",
   "metadata": {},
   "outputs": [],
   "source": [
    "# Gathering all the reviews for the movie Body of Lies\n",
    "df_bol = df_merged.loc[df_merged['movie_title']=='Body of Lies']"
   ]
  },
  {
   "cell_type": "code",
   "execution_count": 86,
   "id": "28646109-13ab-41e0-8df6-e3d648c9569e",
   "metadata": {},
   "outputs": [
    {
     "data": {
      "text/html": [
       "<div>\n",
       "<style scoped>\n",
       "    .dataframe tbody tr th:only-of-type {\n",
       "        vertical-align: middle;\n",
       "    }\n",
       "\n",
       "    .dataframe tbody tr th {\n",
       "        vertical-align: top;\n",
       "    }\n",
       "\n",
       "    .dataframe thead th {\n",
       "        text-align: right;\n",
       "    }\n",
       "</style>\n",
       "<table border=\"1\" class=\"dataframe\">\n",
       "  <thead>\n",
       "    <tr style=\"text-align: right;\">\n",
       "      <th></th>\n",
       "      <th>rotten_tomatoes_link</th>\n",
       "      <th>movie_title</th>\n",
       "      <th>review_content</th>\n",
       "      <th>review_type</th>\n",
       "      <th>tomatometer_status</th>\n",
       "    </tr>\n",
       "  </thead>\n",
       "  <tbody>\n",
       "    <tr>\n",
       "      <th>7382</th>\n",
       "      <td>m/10009225-body_of_lies</td>\n",
       "      <td>Body of Lies</td>\n",
       "      <td>DiCaprio (not Crowe) is in top form in Scott's...</td>\n",
       "      <td>Fresh</td>\n",
       "      <td>Rotten</td>\n",
       "    </tr>\n",
       "    <tr>\n",
       "      <th>7383</th>\n",
       "      <td>m/10009225-body_of_lies</td>\n",
       "      <td>Body of Lies</td>\n",
       "      <td>Neither the location-based verisimilitude of R...</td>\n",
       "      <td>Rotten</td>\n",
       "      <td>Rotten</td>\n",
       "    </tr>\n",
       "    <tr>\n",
       "      <th>7384</th>\n",
       "      <td>m/10009225-body_of_lies</td>\n",
       "      <td>Body of Lies</td>\n",
       "      <td>DiCaprio gives the role plenty of brio, while ...</td>\n",
       "      <td>Fresh</td>\n",
       "      <td>Rotten</td>\n",
       "    </tr>\n",
       "    <tr>\n",
       "      <th>7385</th>\n",
       "      <td>m/10009225-body_of_lies</td>\n",
       "      <td>Body of Lies</td>\n",
       "      <td>Convincing and gripping, Body of Lies is at th...</td>\n",
       "      <td>Fresh</td>\n",
       "      <td>Rotten</td>\n",
       "    </tr>\n",
       "    <tr>\n",
       "      <th>7386</th>\n",
       "      <td>m/10009225-body_of_lies</td>\n",
       "      <td>Body of Lies</td>\n",
       "      <td>Lies and consequences form the heart of this b...</td>\n",
       "      <td>Fresh</td>\n",
       "      <td>Rotten</td>\n",
       "    </tr>\n",
       "  </tbody>\n",
       "</table>\n",
       "</div>"
      ],
      "text/plain": [
       "         rotten_tomatoes_link   movie_title  \\\n",
       "7382  m/10009225-body_of_lies  Body of Lies   \n",
       "7383  m/10009225-body_of_lies  Body of Lies   \n",
       "7384  m/10009225-body_of_lies  Body of Lies   \n",
       "7385  m/10009225-body_of_lies  Body of Lies   \n",
       "7386  m/10009225-body_of_lies  Body of Lies   \n",
       "\n",
       "                                         review_content review_type  \\\n",
       "7382  DiCaprio (not Crowe) is in top form in Scott's...       Fresh   \n",
       "7383  Neither the location-based verisimilitude of R...      Rotten   \n",
       "7384  DiCaprio gives the role plenty of brio, while ...       Fresh   \n",
       "7385  Convincing and gripping, Body of Lies is at th...       Fresh   \n",
       "7386  Lies and consequences form the heart of this b...       Fresh   \n",
       "\n",
       "     tomatometer_status  \n",
       "7382             Rotten  \n",
       "7383             Rotten  \n",
       "7384             Rotten  \n",
       "7385             Rotten  \n",
       "7386             Rotten  "
      ]
     },
     "execution_count": 86,
     "metadata": {},
     "output_type": "execute_result"
    }
   ],
   "source": [
    "df_bol.head()"
   ]
  },
  {
   "cell_type": "markdown",
   "id": "45cac36e-4f5f-46c0-8cce-d939e9066b99",
   "metadata": {},
   "source": [
    "Now that the reviews are collected, the next step is using the trained Random Forest model to predict the sentiment of each review. The predictions are then passed into the function created earlier, which calculates the percentage of Fresh reviews and applies the Rotten Tomatoes rule (≥60% Fresh = Fresh, otherwise Rotten) to assign the movie its final status."
   ]
  },
  {
   "cell_type": "code",
   "execution_count": 88,
   "id": "dc294879-cc4c-4aa4-80ec-e9867548ef23",
   "metadata": {},
   "outputs": [
    {
     "name": "stdout",
     "output_type": "stream",
     "text": [
      "Positive review: 51.96%\n",
      "Movie status: Rotten\n"
     ]
    }
   ],
   "source": [
    "y_predicted_bol = rf_weighted.predict(vectorizer.transform(df_bol['review_content']).toarray())\n",
    "predict_movie_status(y_predicted_bol)"
   ]
  },
  {
   "cell_type": "markdown",
   "id": "1a1a8d85-d561-49f4-859d-efd9b9f40763",
   "metadata": {},
   "source": [
    "The model predicts Body of Lies as Rotten, since only about 51% of its reviews were classified as Fresh, which is below the 60% threshold. To check the reliability of this result, the predicted status can be compared against the actual tomatometer_status from the movies dataset."
   ]
  },
  {
   "cell_type": "code",
   "execution_count": 89,
   "id": "fcec178e-3590-4f43-8a6a-bd948ff0fc1b",
   "metadata": {},
   "outputs": [
    {
     "data": {
      "text/plain": [
       "array(['Rotten'], dtype=object)"
      ]
     },
     "execution_count": 89,
     "metadata": {},
     "output_type": "execute_result"
    }
   ],
   "source": [
    "df_merged['tomatometer_status'].loc[df_merged['movie_title']== 'Body of Lies'].unique()"
   ]
  },
  {
   "cell_type": "markdown",
   "id": "8a5837ec-308e-4680-879e-7c9b6a7f3601",
   "metadata": {},
   "source": [
    "The actual Tomatometer status for Body of Lies is Rotten, which aligns with the model’s prediction and confirms it classified the movie correctly."
   ]
  },
  {
   "cell_type": "markdown",
   "id": "8e93915b-504f-491d-9364-a48f0d56ebd2",
   "metadata": {},
   "source": [
    "### 'Angel Heart' Prediction"
   ]
  },
  {
   "cell_type": "markdown",
   "id": "fd30ad03-19fa-4b12-9a26-67028d29d410",
   "metadata": {},
   "source": [
    "Following the same procedure as before, I will collect all reviews for Angel Heart, use the model to predict each one, and then calculate the percentage of reviews classified as positive."
   ]
  },
  {
   "cell_type": "code",
   "execution_count": 90,
   "id": "b657fc15-9ad1-4c94-b823-fe4f98a82da7",
   "metadata": {},
   "outputs": [
    {
     "data": {
      "text/html": [
       "<div>\n",
       "<style scoped>\n",
       "    .dataframe tbody tr th:only-of-type {\n",
       "        vertical-align: middle;\n",
       "    }\n",
       "\n",
       "    .dataframe tbody tr th {\n",
       "        vertical-align: top;\n",
       "    }\n",
       "\n",
       "    .dataframe thead th {\n",
       "        text-align: right;\n",
       "    }\n",
       "</style>\n",
       "<table border=\"1\" class=\"dataframe\">\n",
       "  <thead>\n",
       "    <tr style=\"text-align: right;\">\n",
       "      <th></th>\n",
       "      <th>rotten_tomatoes_link</th>\n",
       "      <th>movie_title</th>\n",
       "      <th>review_content</th>\n",
       "      <th>review_type</th>\n",
       "      <th>tomatometer_status</th>\n",
       "    </tr>\n",
       "  </thead>\n",
       "  <tbody>\n",
       "    <tr>\n",
       "      <th>9240</th>\n",
       "      <td>m/1000959-angel_heart</td>\n",
       "      <td>Angel Heart</td>\n",
       "      <td>Angel Heart is a thriller and a horror movie, ...</td>\n",
       "      <td>Fresh</td>\n",
       "      <td>Fresh</td>\n",
       "    </tr>\n",
       "    <tr>\n",
       "      <th>9245</th>\n",
       "      <td>m/1000959-angel_heart</td>\n",
       "      <td>Angel Heart</td>\n",
       "      <td>Alan Parker's pulp sensibilities are beautiful...</td>\n",
       "      <td>Fresh</td>\n",
       "      <td>Fresh</td>\n",
       "    </tr>\n",
       "    <tr>\n",
       "      <th>9246</th>\n",
       "      <td>m/1000959-angel_heart</td>\n",
       "      <td>Angel Heart</td>\n",
       "      <td>One of the few truly great modern horror films</td>\n",
       "      <td>Fresh</td>\n",
       "      <td>Fresh</td>\n",
       "    </tr>\n",
       "    <tr>\n",
       "      <th>9248</th>\n",
       "      <td>m/1000959-angel_heart</td>\n",
       "      <td>Angel Heart</td>\n",
       "      <td>Erotic, twisty and incredibly disturbed. Splen...</td>\n",
       "      <td>Fresh</td>\n",
       "      <td>Fresh</td>\n",
       "    </tr>\n",
       "    <tr>\n",
       "      <th>9249</th>\n",
       "      <td>m/1000959-angel_heart</td>\n",
       "      <td>Angel Heart</td>\n",
       "      <td>Este excepcional noir conta com maravilhosa fo...</td>\n",
       "      <td>Fresh</td>\n",
       "      <td>Fresh</td>\n",
       "    </tr>\n",
       "  </tbody>\n",
       "</table>\n",
       "</div>"
      ],
      "text/plain": [
       "       rotten_tomatoes_link  movie_title  \\\n",
       "9240  m/1000959-angel_heart  Angel Heart   \n",
       "9245  m/1000959-angel_heart  Angel Heart   \n",
       "9246  m/1000959-angel_heart  Angel Heart   \n",
       "9248  m/1000959-angel_heart  Angel Heart   \n",
       "9249  m/1000959-angel_heart  Angel Heart   \n",
       "\n",
       "                                         review_content review_type  \\\n",
       "9240  Angel Heart is a thriller and a horror movie, ...       Fresh   \n",
       "9245  Alan Parker's pulp sensibilities are beautiful...       Fresh   \n",
       "9246     One of the few truly great modern horror films       Fresh   \n",
       "9248  Erotic, twisty and incredibly disturbed. Splen...       Fresh   \n",
       "9249  Este excepcional noir conta com maravilhosa fo...       Fresh   \n",
       "\n",
       "     tomatometer_status  \n",
       "9240              Fresh  \n",
       "9245              Fresh  \n",
       "9246              Fresh  \n",
       "9248              Fresh  \n",
       "9249              Fresh  "
      ]
     },
     "execution_count": 90,
     "metadata": {},
     "output_type": "execute_result"
    }
   ],
   "source": [
    "# Gather all the reviews of Anna Karenina movie\n",
    "df_ah = df_merged.loc[df_merged['movie_title']=='Angel Heart']\n",
    "df_ah.head()"
   ]
  },
  {
   "cell_type": "code",
   "execution_count": 91,
   "id": "8fde90d6-498f-477d-a0f0-4b9ecfdbe930",
   "metadata": {},
   "outputs": [
    {
     "name": "stdout",
     "output_type": "stream",
     "text": [
      "Positive review: 66.67%\n",
      "Movie status: Fresh\n"
     ]
    }
   ],
   "source": [
    "y_predicted_ah = rf_weighted.predict(vectorizer.transform(df_ah['review_content']).toarray())\n",
    "predict_movie_status(y_predicted_ah)"
   ]
  },
  {
   "cell_type": "markdown",
   "id": "87aba215-5a02-4a31-a2e1-09a0a70555b4",
   "metadata": {},
   "source": [
    "With 66.7% of its reviews predicted as positive, Angel Heart is classified as Fresh by the model. The next step is checking its actual Tomatometer status for comparison."
   ]
  },
  {
   "cell_type": "code",
   "execution_count": 92,
   "id": "259b123c-f305-442b-82d3-1370c7fb6d94",
   "metadata": {},
   "outputs": [
    {
     "data": {
      "text/plain": [
       "array(['Fresh'], dtype=object)"
      ]
     },
     "execution_count": 92,
     "metadata": {},
     "output_type": "execute_result"
    }
   ],
   "source": [
    "df_merged['tomatometer_status'].loc[df_merged['movie_title']== 'Angel Heart'].unique()"
   ]
  },
  {
   "cell_type": "markdown",
   "id": "789229fc-6593-45d9-bdc8-b85378505c7a",
   "metadata": {},
   "source": [
    "The model correctly identified the status of Angel Heart. Moving on, the next movie to evaluate is The Duchess."
   ]
  },
  {
   "cell_type": "markdown",
   "id": "d91f7868-6faf-4f25-97c9-56ef94e8d5ff",
   "metadata": {},
   "source": [
    "### 'THE DUCHESS' PREDICTION"
   ]
  },
  {
   "cell_type": "code",
   "execution_count": 95,
   "id": "3cedfa36-df33-4415-b353-80464798ee57",
   "metadata": {},
   "outputs": [
    {
     "data": {
      "text/html": [
       "<div>\n",
       "<style scoped>\n",
       "    .dataframe tbody tr th:only-of-type {\n",
       "        vertical-align: middle;\n",
       "    }\n",
       "\n",
       "    .dataframe tbody tr th {\n",
       "        vertical-align: top;\n",
       "    }\n",
       "\n",
       "    .dataframe thead th {\n",
       "        text-align: right;\n",
       "    }\n",
       "</style>\n",
       "<table border=\"1\" class=\"dataframe\">\n",
       "  <thead>\n",
       "    <tr style=\"text-align: right;\">\n",
       "      <th></th>\n",
       "      <th>rotten_tomatoes_link</th>\n",
       "      <th>movie_title</th>\n",
       "      <th>review_content</th>\n",
       "      <th>review_type</th>\n",
       "      <th>tomatometer_status</th>\n",
       "    </tr>\n",
       "  </thead>\n",
       "  <tbody>\n",
       "    <tr>\n",
       "      <th>8558</th>\n",
       "      <td>m/10009493-duchess</td>\n",
       "      <td>The Duchess</td>\n",
       "      <td>For all its luscious period trappings and Keir...</td>\n",
       "      <td>Rotten</td>\n",
       "      <td>Fresh</td>\n",
       "    </tr>\n",
       "    <tr>\n",
       "      <th>8559</th>\n",
       "      <td>m/10009493-duchess</td>\n",
       "      <td>The Duchess</td>\n",
       "      <td>Solid but distant melodrama about the flamboya...</td>\n",
       "      <td>Fresh</td>\n",
       "      <td>Fresh</td>\n",
       "    </tr>\n",
       "    <tr>\n",
       "      <th>8560</th>\n",
       "      <td>m/10009493-duchess</td>\n",
       "      <td>The Duchess</td>\n",
       "      <td>It could have been an intriguing, poignant sag...</td>\n",
       "      <td>Rotten</td>\n",
       "      <td>Fresh</td>\n",
       "    </tr>\n",
       "    <tr>\n",
       "      <th>8561</th>\n",
       "      <td>m/10009493-duchess</td>\n",
       "      <td>The Duchess</td>\n",
       "      <td>Has riveting parallels with much more recent B...</td>\n",
       "      <td>Fresh</td>\n",
       "      <td>Fresh</td>\n",
       "    </tr>\n",
       "    <tr>\n",
       "      <th>8562</th>\n",
       "      <td>m/10009493-duchess</td>\n",
       "      <td>The Duchess</td>\n",
       "      <td>Ralph Fiennes steals it as the dour duke in a ...</td>\n",
       "      <td>Fresh</td>\n",
       "      <td>Fresh</td>\n",
       "    </tr>\n",
       "  </tbody>\n",
       "</table>\n",
       "</div>"
      ],
      "text/plain": [
       "     rotten_tomatoes_link  movie_title  \\\n",
       "8558   m/10009493-duchess  The Duchess   \n",
       "8559   m/10009493-duchess  The Duchess   \n",
       "8560   m/10009493-duchess  The Duchess   \n",
       "8561   m/10009493-duchess  The Duchess   \n",
       "8562   m/10009493-duchess  The Duchess   \n",
       "\n",
       "                                         review_content review_type  \\\n",
       "8558  For all its luscious period trappings and Keir...      Rotten   \n",
       "8559  Solid but distant melodrama about the flamboya...       Fresh   \n",
       "8560  It could have been an intriguing, poignant sag...      Rotten   \n",
       "8561  Has riveting parallels with much more recent B...       Fresh   \n",
       "8562  Ralph Fiennes steals it as the dour duke in a ...       Fresh   \n",
       "\n",
       "     tomatometer_status  \n",
       "8558              Fresh  \n",
       "8559              Fresh  \n",
       "8560              Fresh  \n",
       "8561              Fresh  \n",
       "8562              Fresh  "
      ]
     },
     "execution_count": 95,
     "metadata": {},
     "output_type": "execute_result"
    }
   ],
   "source": [
    "# Gather all the reviews of the Duchess movie\n",
    "df_duchess = df_merged.loc[df_merged['movie_title']== 'The Duchess']\n",
    "df_duchess.head()"
   ]
  },
  {
   "cell_type": "code",
   "execution_count": 96,
   "id": "7cf63040-2c77-477f-afaa-743709508319",
   "metadata": {},
   "outputs": [
    {
     "name": "stdout",
     "output_type": "stream",
     "text": [
      "Positive review: 60.74%\n",
      "Movie status: Fresh\n"
     ]
    }
   ],
   "source": [
    "y_predicted_duchess = rf_weighted.predict(vectorizer.transform(df_duchess['review_content']).toarray())\n",
    "predict_movie_status(y_predicted_duchess)"
   ]
  },
  {
   "cell_type": "markdown",
   "id": "c507fd30-5121-4157-9cf9-b6c33c183915",
   "metadata": {},
   "source": [
    "The model output shows that 60.74% of reviews were predicted as positive, placing The Duchess just above the 60% threshold and resulting in a Fresh classification. The next step is to compare this outcome with the movie’s actual Tomatometer status."
   ]
  },
  {
   "cell_type": "code",
   "execution_count": 97,
   "id": "16ea3080-02b1-46bc-b767-713bbd340476",
   "metadata": {},
   "outputs": [
    {
     "data": {
      "text/plain": [
       "array(['Fresh'], dtype=object)"
      ]
     },
     "execution_count": 97,
     "metadata": {},
     "output_type": "execute_result"
    }
   ],
   "source": [
    "df_merged['tomatometer_status'].loc[df_merged['movie_title']== 'The Duchess'].unique()"
   ]
  },
  {
   "cell_type": "code",
   "execution_count": null,
   "id": "448c8961-204c-418e-a30e-765652ef1eea",
   "metadata": {},
   "outputs": [],
   "source": []
  }
 ],
 "metadata": {
  "kernelspec": {
   "display_name": "Python 3 (ipykernel)",
   "language": "python",
   "name": "python3"
  },
  "language_info": {
   "codemirror_mode": {
    "name": "ipython",
    "version": 3
   },
   "file_extension": ".py",
   "mimetype": "text/x-python",
   "name": "python",
   "nbconvert_exporter": "python",
   "pygments_lexer": "ipython3",
   "version": "3.12.4"
  }
 },
 "nbformat": 4,
 "nbformat_minor": 5
}
